{
 "cells": [
  {
   "cell_type": "code",
   "execution_count": 118,
   "metadata": {
    "collapsed": true
   },
   "outputs": [],
   "source": [
    "# -*- coding: utf-16 -*-"
   ]
  },
  {
   "cell_type": "code",
   "execution_count": 119,
   "metadata": {
    "collapsed": true
   },
   "outputs": [],
   "source": [
    "import pandas as pd"
   ]
  },
  {
   "cell_type": "code",
   "execution_count": 120,
   "metadata": {
    "collapsed": true
   },
   "outputs": [],
   "source": [
    "from plotly.graph_objs import *\n"
   ]
  },
  {
   "cell_type": "code",
   "execution_count": 138,
   "metadata": {
    "collapsed": true
   },
   "outputs": [],
   "source": [
    "import numpy as np"
   ]
  },
  {
   "cell_type": "code",
   "execution_count": 143,
   "metadata": {
    "collapsed": true
   },
   "outputs": [],
   "source": [
    "import plotly.graph_objs as go"
   ]
  },
  {
   "cell_type": "code",
   "execution_count": 121,
   "metadata": {
    "collapsed": true
   },
   "outputs": [],
   "source": [
    "import plotly.plotly as py"
   ]
  },
  {
   "cell_type": "code",
   "execution_count": 122,
   "metadata": {},
   "outputs": [],
   "source": [
    "path_web='http://datos.madrid.es/egob/catalogo/210104-150-multas-circulacion-detalle.csv'"
   ]
  },
  {
   "cell_type": "code",
   "execution_count": 123,
   "metadata": {
    "collapsed": true
   },
   "outputs": [],
   "source": [
    "path_local='/Users/waly/Downloads/201704_detalle_v1.csv'"
   ]
  },
  {
   "cell_type": "code",
   "execution_count": 124,
   "metadata": {
    "collapsed": true
   },
   "outputs": [],
   "source": [
    "nombre_columnas=['CALIFICACION','LUGAR','MES','ANIO','HORA','IMP_BOL','DESCUENTO','PUNTOS','DENUNCIANTE','HECHO-BOL','VEL_LIMITE','VEL_CIRCULA','COORDENADA_X','COORDENADA_Y']"
   ]
  },
  {
   "cell_type": "code",
   "execution_count": 125,
   "metadata": {},
   "outputs": [],
   "source": [
    "multas=pd.read_csv(path_web,sep=\";\",encoding='windows-1250',index_col=False,header=None,names=nombre_columnas,skiprows=1)"
   ]
  },
  {
   "cell_type": "code",
   "execution_count": 126,
   "metadata": {
    "collapsed": true
   },
   "outputs": [],
   "source": [
    "multas['HORA']=pd.to_datetime(multas['HORA'],format='%H.%M')\n"
   ]
  },
  {
   "cell_type": "code",
   "execution_count": 127,
   "metadata": {},
   "outputs": [],
   "source": [
    "for n in range(0,multas.shape[0]):\n",
    "    multas.set_value(n,'hora_entera',multas.loc[n,'HORA'].strftime('%H')+':00');"
   ]
  },
  {
   "cell_type": "code",
   "execution_count": 128,
   "metadata": {},
   "outputs": [
    {
     "data": {
      "text/plain": [
       "0    17:00\n",
       "1    23:00\n",
       "2    16:00\n",
       "3    18:00\n",
       "4    13:00\n",
       "Name: hora_entera, dtype: object"
      ]
     },
     "execution_count": 128,
     "metadata": {},
     "output_type": "execute_result"
    }
   ],
   "source": [
    "multas.hora_entera.head()"
   ]
  },
  {
   "cell_type": "code",
   "execution_count": 129,
   "metadata": {},
   "outputs": [],
   "source": [
    "multas_time=multas.sort_values('HORA').groupby(\"hora_entera\",sort=False).IMP_BOL.sum().reset_index()"
   ]
  },
  {
   "cell_type": "code",
   "execution_count": 130,
   "metadata": {},
   "outputs": [
    {
     "data": {
      "text/html": [
       "<div>\n",
       "<style>\n",
       "    .dataframe thead tr:only-child th {\n",
       "        text-align: right;\n",
       "    }\n",
       "\n",
       "    .dataframe thead th {\n",
       "        text-align: left;\n",
       "    }\n",
       "\n",
       "    .dataframe tbody tr th {\n",
       "        vertical-align: top;\n",
       "    }\n",
       "</style>\n",
       "<table border=\"1\" class=\"dataframe\">\n",
       "  <thead>\n",
       "    <tr style=\"text-align: right;\">\n",
       "      <th></th>\n",
       "      <th>CALIFICACION</th>\n",
       "      <th>LUGAR</th>\n",
       "      <th>MES</th>\n",
       "      <th>ANIO</th>\n",
       "      <th>HORA</th>\n",
       "      <th>IMP_BOL</th>\n",
       "      <th>DESCUENTO</th>\n",
       "      <th>PUNTOS</th>\n",
       "      <th>DENUNCIANTE</th>\n",
       "      <th>HECHO-BOL</th>\n",
       "      <th>VEL_LIMITE</th>\n",
       "      <th>VEL_CIRCULA</th>\n",
       "      <th>COORDENADA_X</th>\n",
       "      <th>COORDENADA_Y</th>\n",
       "      <th>hora_entera</th>\n",
       "    </tr>\n",
       "  </thead>\n",
       "  <tbody>\n",
       "    <tr>\n",
       "      <th>0</th>\n",
       "      <td>LEVE</td>\n",
       "      <td>AV FILIPINAS 42</td>\n",
       "      <td>4</td>\n",
       "      <td>2017</td>\n",
       "      <td>1900-01-01 17:16:00</td>\n",
       "      <td>30.0</td>\n",
       "      <td>SI</td>\n",
       "      <td>0</td>\n",
       "      <td>SER</td>\n",
       "      <td>ESTACIONAR CON AUTORIZACIÓN EN LUGAR HABILITAD...</td>\n",
       "      <td></td>\n",
       "      <td></td>\n",
       "      <td></td>\n",
       "      <td></td>\n",
       "      <td>17:00</td>\n",
       "    </tr>\n",
       "    <tr>\n",
       "      <th>1</th>\n",
       "      <td>GRAVE</td>\n",
       "      <td>PZ JOSE DE VILLARREAL SN</td>\n",
       "      <td>4</td>\n",
       "      <td>2017</td>\n",
       "      <td>1900-01-01 23:04:00</td>\n",
       "      <td>200.0</td>\n",
       "      <td>SI</td>\n",
       "      <td>0</td>\n",
       "      <td>POLICIA MUNICIPAL</td>\n",
       "      <td>ESTACIONAR SOBRE LA ACERA OBSTACULIZANDO GRAVE...</td>\n",
       "      <td></td>\n",
       "      <td></td>\n",
       "      <td></td>\n",
       "      <td></td>\n",
       "      <td>23:00</td>\n",
       "    </tr>\n",
       "    <tr>\n",
       "      <th>2</th>\n",
       "      <td>GRAVE</td>\n",
       "      <td>DOCTOR LARRA Y CEREZO 9</td>\n",
       "      <td>4</td>\n",
       "      <td>2017</td>\n",
       "      <td>1900-01-01 16:01:00</td>\n",
       "      <td>200.0</td>\n",
       "      <td>SI</td>\n",
       "      <td>0</td>\n",
       "      <td>POLICIA MUNICIPAL</td>\n",
       "      <td>ESTACIONAR EN MEDIO DE LA CALZADA.            ...</td>\n",
       "      <td></td>\n",
       "      <td></td>\n",
       "      <td></td>\n",
       "      <td></td>\n",
       "      <td>16:00</td>\n",
       "    </tr>\n",
       "    <tr>\n",
       "      <th>3</th>\n",
       "      <td>LEVE</td>\n",
       "      <td>CL BRAVO MURILLO 66</td>\n",
       "      <td>4</td>\n",
       "      <td>2017</td>\n",
       "      <td>1900-01-01 18:08:00</td>\n",
       "      <td>60.0</td>\n",
       "      <td>SI</td>\n",
       "      <td>0</td>\n",
       "      <td>SER</td>\n",
       "      <td>ESTACIONAR CON AUTORIZACIÓN NO VÁLIDA.        ...</td>\n",
       "      <td></td>\n",
       "      <td></td>\n",
       "      <td></td>\n",
       "      <td></td>\n",
       "      <td>18:00</td>\n",
       "    </tr>\n",
       "    <tr>\n",
       "      <th>4</th>\n",
       "      <td>GRAVE</td>\n",
       "      <td>CALLE 30 08RE A 3</td>\n",
       "      <td>4</td>\n",
       "      <td>2017</td>\n",
       "      <td>1900-01-01 13:05:00</td>\n",
       "      <td>200.0</td>\n",
       "      <td>SI</td>\n",
       "      <td>0</td>\n",
       "      <td>POLICIA MUNICIPAL</td>\n",
       "      <td>CIRCULAR CON UN CAMIÓN DE M.M.A. SUPERIOR A 7,...</td>\n",
       "      <td></td>\n",
       "      <td></td>\n",
       "      <td></td>\n",
       "      <td></td>\n",
       "      <td>13:00</td>\n",
       "    </tr>\n",
       "  </tbody>\n",
       "</table>\n",
       "</div>"
      ],
      "text/plain": [
       "  CALIFICACION                                     LUGAR  MES  ANIO  \\\n",
       "0   LEVE        AV FILIPINAS 42                             4  2017   \n",
       "1   GRAVE       PZ JOSE DE VILLARREAL SN                    4  2017   \n",
       "2   GRAVE       DOCTOR LARRA Y CEREZO 9                     4  2017   \n",
       "3   LEVE        CL BRAVO MURILLO 66                         4  2017   \n",
       "4   GRAVE       CALLE 30 08RE A 3                           4  2017   \n",
       "\n",
       "                 HORA  IMP_BOL DESCUENTO  PUNTOS           DENUNCIANTE  \\\n",
       "0 1900-01-01 17:16:00     30.0        SI       0  SER                    \n",
       "1 1900-01-01 23:04:00    200.0        SI       0  POLICIA MUNICIPAL      \n",
       "2 1900-01-01 16:01:00    200.0        SI       0  POLICIA MUNICIPAL      \n",
       "3 1900-01-01 18:08:00     60.0        SI       0  SER                    \n",
       "4 1900-01-01 13:05:00    200.0        SI       0  POLICIA MUNICIPAL      \n",
       "\n",
       "                                           HECHO-BOL VEL_LIMITE VEL_CIRCULA  \\\n",
       "0  ESTACIONAR CON AUTORIZACIÓN EN LUGAR HABILITAD...                          \n",
       "1  ESTACIONAR SOBRE LA ACERA OBSTACULIZANDO GRAVE...                          \n",
       "2  ESTACIONAR EN MEDIO DE LA CALZADA.            ...                          \n",
       "3  ESTACIONAR CON AUTORIZACIÓN NO VÁLIDA.        ...                          \n",
       "4  CIRCULAR CON UN CAMIÓN DE M.M.A. SUPERIOR A 7,...                          \n",
       "\n",
       "  COORDENADA_X COORDENADA_Y hora_entera  \n",
       "0                                 17:00  \n",
       "1                                 23:00  \n",
       "2                                 16:00  \n",
       "3                                 18:00  \n",
       "4                                 13:00  "
      ]
     },
     "execution_count": 130,
     "metadata": {},
     "output_type": "execute_result"
    }
   ],
   "source": [
    "multas.head()"
   ]
  },
  {
   "cell_type": "code",
   "execution_count": 131,
   "metadata": {
    "collapsed": true
   },
   "outputs": [],
   "source": [
    "x=multas_time.hora_entera\n",
    "y=multas_time.IMP_BOL\n",
    "trace1={\n",
    "    'x': x,\n",
    "    'y' : y,\n",
    "    'name':'trace1',\n",
    "    'type':'bar'\n",
    "};\n",
    "data=[trace1];\n",
    "layout = {\n",
    "  'xaxis': {'title': 'X axis'},\n",
    "  'yaxis': {'title': 'Y axis'},\n",
    "  'barmode': 'relative',\n",
    "  'title': 'Distribucion euros por hora'\n",
    "};"
   ]
  },
  {
   "cell_type": "code",
   "execution_count": 132,
   "metadata": {},
   "outputs": [
    {
     "data": {
      "text/html": [
       "<iframe id=\"igraph\" scrolling=\"no\" style=\"border:none;\" seamless=\"seamless\" src=\"https://plot.ly/~waly/9.embed\" height=\"525px\" width=\"100%\"></iframe>"
      ],
      "text/plain": [
       "<plotly.tools.PlotlyDisplay object>"
      ]
     },
     "execution_count": 132,
     "metadata": {},
     "output_type": "execute_result"
    }
   ],
   "source": [
    "py.iplot({'data': data, 'layout': layout}, filename='barmode')\n"
   ]
  },
  {
   "cell_type": "code",
   "execution_count": 133,
   "metadata": {
    "collapsed": true
   },
   "outputs": [],
   "source": [
    "multas_time=multas.sort_values('HORA').groupby(\"hora_entera\",sort=False).PUNTOS.sum().reset_index()"
   ]
  },
  {
   "cell_type": "code",
   "execution_count": 136,
   "metadata": {},
   "outputs": [],
   "source": [
    "x=multas_time.hora_entera\n",
    "y=multas_time.PUNTOS\n",
    "trace1={\n",
    "    'x': x,\n",
    "    'y' : y,\n",
    "    'name':'trace1',\n",
    "    'type':'bar'\n",
    "};\n",
    "data=[trace1];\n",
    "layout = {\n",
    "  'xaxis': {'title': 'Hora'},\n",
    "  'yaxis': {'title': 'Puntos'},\n",
    "  'barmode': 'relative',\n",
    "  'title': 'Distribucion puntos perdidos por hora'\n",
    "};"
   ]
  },
  {
   "cell_type": "code",
   "execution_count": null,
   "metadata": {
    "collapsed": true
   },
   "outputs": [],
   "source": []
  },
  {
   "cell_type": "code",
   "execution_count": 137,
   "metadata": {},
   "outputs": [
    {
     "data": {
      "text/html": [
       "<iframe id=\"igraph\" scrolling=\"no\" style=\"border:none;\" seamless=\"seamless\" src=\"https://plot.ly/~waly/9.embed\" height=\"525px\" width=\"100%\"></iframe>"
      ],
      "text/plain": [
       "<plotly.tools.PlotlyDisplay object>"
      ]
     },
     "execution_count": 137,
     "metadata": {},
     "output_type": "execute_result"
    }
   ],
   "source": [
    "py.iplot({'data': data, 'layout': layout}, filename='barmode')\n"
   ]
  },
  {
   "cell_type": "code",
   "execution_count": 139,
   "metadata": {
    "collapsed": true
   },
   "outputs": [],
   "source": [
    "multas_time=multas.sort_values('HORA').reset_index()"
   ]
  },
  {
   "cell_type": "code",
   "execution_count": 144,
   "metadata": {},
   "outputs": [],
   "source": [
    "data = [go.Histogram(x=multas_time.hora_entera)]\n"
   ]
  },
  {
   "cell_type": "code",
   "execution_count": 145,
   "metadata": {},
   "outputs": [
    {
     "name": "stderr",
     "output_type": "stream",
     "text": [
      "/Users/waly/anaconda/envs/OpenData/lib/python3.6/site-packages/plotly/plotly/plotly.py:218: UserWarning:\n",
      "\n",
      "Woah there! Look at all those points! Due to browser limitations, the Plotly SVG drawing functions have a hard time graphing more than 500k data points for line charts, or 40k points for other types of charts. Here are some suggestions:\n",
      "(1) Use the `plotly.graph_objs.Scattergl` trace object to generate a WebGl graph.\n",
      "(2) Trying using the image API to return an image instead of a graph URL\n",
      "(3) Use matplotlib\n",
      "(4) See if you can create your visualization with fewer data points\n",
      "\n",
      "If the visualization you're using aggregates points (e.g., box plot, histogram, etc.) you can disregard this warning.\n",
      "\n"
     ]
    },
    {
     "data": {
      "text/html": [
       "<iframe id=\"igraph\" scrolling=\"no\" style=\"border:none;\" seamless=\"seamless\" src=\"https://plot.ly/~waly/13.embed\" height=\"525px\" width=\"100%\"></iframe>"
      ],
      "text/plain": [
       "<plotly.tools.PlotlyDisplay object>"
      ]
     },
     "execution_count": 145,
     "metadata": {},
     "output_type": "execute_result"
    }
   ],
   "source": [
    "py.iplot(data, filename='basic histogram')"
   ]
  },
  {
   "cell_type": "code",
   "execution_count": null,
   "metadata": {
    "collapsed": true
   },
   "outputs": [],
   "source": [
    "multas_time"
   ]
  }
 ],
 "metadata": {
  "kernelspec": {
   "display_name": "Python 3",
   "language": "python",
   "name": "python3"
  },
  "language_info": {
   "codemirror_mode": {
    "name": "ipython",
    "version": 3
   },
   "file_extension": ".py",
   "mimetype": "text/x-python",
   "name": "python",
   "nbconvert_exporter": "python",
   "pygments_lexer": "ipython3",
   "version": "3.6.1"
  }
 },
 "nbformat": 4,
 "nbformat_minor": 2
}
