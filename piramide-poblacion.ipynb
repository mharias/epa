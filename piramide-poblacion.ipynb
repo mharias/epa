{
 "cells": [
  {
   "cell_type": "raw",
   "metadata": {},
   "source": [
    "Vamos a generar una piramide de poblacion, importando los datos desde INE, y con matplotlib"
   ]
  },
  {
   "cell_type": "code",
   "execution_count": 2,
   "metadata": {
    "collapsed": true
   },
   "outputs": [],
   "source": [
    "import matplotlib"
   ]
  },
  {
   "cell_type": "code",
   "execution_count": 3,
   "metadata": {
    "collapsed": true
   },
   "outputs": [],
   "source": [
    "from plotly.graph_objs import *"
   ]
  },
  {
   "cell_type": "code",
   "execution_count": 4,
   "metadata": {
    "collapsed": true
   },
   "outputs": [],
   "source": [
    "%matplotlib inline"
   ]
  },
  {
   "cell_type": "code",
   "execution_count": 5,
   "metadata": {
    "collapsed": true
   },
   "outputs": [],
   "source": [
    "import matplotlib.pyplot as plt"
   ]
  },
  {
   "cell_type": "code",
   "execution_count": 6,
   "metadata": {
    "collapsed": true
   },
   "outputs": [],
   "source": [
    "import pandas as pd"
   ]
  },
  {
   "cell_type": "code",
   "execution_count": 7,
   "metadata": {
    "collapsed": true
   },
   "outputs": [],
   "source": [
    "import numpy as np"
   ]
  },
  {
   "cell_type": "code",
   "execution_count": 8,
   "metadata": {
    "collapsed": true
   },
   "outputs": [],
   "source": [
    "import plotly.graph_objs as go"
   ]
  },
  {
   "cell_type": "code",
   "execution_count": 9,
   "metadata": {
    "collapsed": true
   },
   "outputs": [],
   "source": [
    "import plotly.plotly as py"
   ]
  },
  {
   "cell_type": "code",
   "execution_count": 10,
   "metadata": {
    "collapsed": true
   },
   "outputs": [],
   "source": [
    "import datetime, requests"
   ]
  },
  {
   "cell_type": "code",
   "execution_count": 11,
   "metadata": {
    "collapsed": true
   },
   "outputs": [],
   "source": [
    "url_plantilla_Serie = 'http://servicios.ine.es/wstempus/js/ES/DATOS_SERIE/{codigo}?nult={num_datos}'"
   ]
  },
  {
   "cell_type": "code",
   "execution_count": 12,
   "metadata": {
    "collapsed": true
   },
   "outputs": [],
   "source": [
    "url_plantilla_Tabla= 'http://servicios.ine.es/wstempus/js/ES/DATOS_TABLA/{codigo}?nult={num_datos}'"
   ]
  },
  {
   "cell_type": "markdown",
   "metadata": {},
   "source": [
    "# Primero importamos los datos"
   ]
  },
  {
   "cell_type": "code",
   "execution_count": 13,
   "metadata": {
    "collapsed": true
   },
   "outputs": [],
   "source": [
    "codigo = \"9663\""
   ]
  },
  {
   "cell_type": "code",
   "execution_count": 14,
   "metadata": {
    "collapsed": true
   },
   "outputs": [],
   "source": [
    "num_datos=100"
   ]
  },
  {
   "cell_type": "code",
   "execution_count": 15,
   "metadata": {
    "collapsed": true
   },
   "outputs": [],
   "source": [
    "url = url_plantilla_Tabla.format(codigo=codigo,num_datos=num_datos)"
   ]
  },
  {
   "cell_type": "code",
   "execution_count": 20,
   "metadata": {
    "collapsed": true
   },
   "outputs": [],
   "source": [
    "respuesta_poblacion_16 = requests.get(url)"
   ]
  },
  {
   "cell_type": "code",
   "execution_count": 21,
   "metadata": {},
   "outputs": [],
   "source": [
    "datos_poblacion_16=pd.DataFrame(respuesta_poblacion_16.json())"
   ]
  },
  {
   "cell_type": "code",
   "execution_count": 22,
   "metadata": {
    "collapsed": true
   },
   "outputs": [],
   "source": [
    "datos_poblacion_16.drop([0,1,2,318,319,320],inplace=True)"
   ]
  },
  {
   "cell_type": "code",
   "execution_count": 23,
   "metadata": {
    "collapsed": true
   },
   "outputs": [],
   "source": [
    "spliteador_edad = lambda x: x.split('.')[1].split()[0]"
   ]
  },
  {
   "cell_type": "code",
   "execution_count": 24,
   "metadata": {
    "collapsed": true
   },
   "outputs": [],
   "source": [
    "spliteador_genero=lambda x: x.split('.')[2].strip()"
   ]
  },
  {
   "cell_type": "code",
   "execution_count": 25,
   "metadata": {
    "collapsed": true
   },
   "outputs": [],
   "source": [
    "spliteador_edad_genero=lambda x: [x.split('.')[1].split()[0],x.split('.')[2].strip()]"
   ]
  },
  {
   "cell_type": "code",
   "execution_count": 26,
   "metadata": {
    "collapsed": true
   },
   "outputs": [],
   "source": [
    "df1=datos_poblacion_16[datos_poblacion_16['Nombre'].apply(spliteador_genero)!='Total']"
   ]
  },
  {
   "cell_type": "code",
   "execution_count": 27,
   "metadata": {},
   "outputs": [
    {
     "data": {
      "text/plain": [
       "[{'Anyo': 2017,\n",
       "  'FK_Periodo': 26,\n",
       "  'FK_TipoDato': 2,\n",
       "  'Fecha': 1483225200000,\n",
       "  'Secreto': False,\n",
       "  'Valor': 209617.0},\n",
       " {'Anyo': 2016,\n",
       "  'FK_Periodo': 27,\n",
       "  'FK_TipoDato': 2,\n",
       "  'Fecha': 1467324000000,\n",
       "  'Secreto': False,\n",
       "  'Valor': 210958.0},\n",
       " {'Anyo': 2016,\n",
       "  'FK_Periodo': 26,\n",
       "  'FK_TipoDato': 1,\n",
       "  'Fecha': 1451602800000,\n",
       "  'Secreto': False,\n",
       "  'Valor': 215948.0},\n",
       " {'Anyo': 2015,\n",
       "  'FK_Periodo': 27,\n",
       "  'FK_TipoDato': 1,\n",
       "  'Fecha': 1435701600000,\n",
       "  'Secreto': False,\n",
       "  'Valor': 215729.0},\n",
       " {'Anyo': 2015,\n",
       "  'FK_Periodo': 26,\n",
       "  'FK_TipoDato': 1,\n",
       "  'Fecha': 1420066800000,\n",
       "  'Secreto': False,\n",
       "  'Valor': 220124.0},\n",
       " {'Anyo': 2014,\n",
       "  'FK_Periodo': 27,\n",
       "  'FK_TipoDato': 1,\n",
       "  'Fecha': 1404165600000,\n",
       "  'Secreto': False,\n",
       "  'Valor': 216744.0},\n",
       " {'Anyo': 2014,\n",
       "  'FK_Periodo': 26,\n",
       "  'FK_TipoDato': 1,\n",
       "  'Fecha': 1388530800000,\n",
       "  'Secreto': False,\n",
       "  'Valor': 218576.0},\n",
       " {'Anyo': 2013,\n",
       "  'FK_Periodo': 27,\n",
       "  'FK_TipoDato': 1,\n",
       "  'Fecha': 1372629600000,\n",
       "  'Secreto': False,\n",
       "  'Valor': 223136.0},\n",
       " {'Anyo': 2013,\n",
       "  'FK_Periodo': 26,\n",
       "  'FK_TipoDato': 1,\n",
       "  'Fecha': 1356994800000,\n",
       "  'Secreto': False,\n",
       "  'Valor': 233648.0},\n",
       " {'Anyo': 2012,\n",
       "  'FK_Periodo': 27,\n",
       "  'FK_TipoDato': 1,\n",
       "  'Fecha': 1341093600000,\n",
       "  'Secreto': False,\n",
       "  'Valor': 238156.0},\n",
       " {'Anyo': 2012,\n",
       "  'FK_Periodo': 26,\n",
       "  'FK_TipoDato': 1,\n",
       "  'Fecha': 1325372400000,\n",
       "  'Secreto': False,\n",
       "  'Valor': 245029.0},\n",
       " {'Anyo': 2011,\n",
       "  'FK_Periodo': 27,\n",
       "  'FK_TipoDato': 1,\n",
       "  'Fecha': 1309471200000,\n",
       "  'Secreto': False,\n",
       "  'Valor': 244986.0},\n",
       " {'Anyo': 2011,\n",
       "  'FK_Periodo': 26,\n",
       "  'FK_TipoDato': 1,\n",
       "  'Fecha': 1293836400000,\n",
       "  'Secreto': False,\n",
       "  'Valor': 249568.0},\n",
       " {'Anyo': 2010,\n",
       "  'FK_Periodo': 27,\n",
       "  'FK_TipoDato': 1,\n",
       "  'Fecha': 1277935200000,\n",
       "  'Secreto': False,\n",
       "  'Valor': 247827.0},\n",
       " {'Anyo': 2010,\n",
       "  'FK_Periodo': 26,\n",
       "  'FK_TipoDato': 1,\n",
       "  'Fecha': 1262300400000,\n",
       "  'Secreto': False,\n",
       "  'Valor': 255371.0},\n",
       " {'Anyo': 2009,\n",
       "  'FK_Periodo': 27,\n",
       "  'FK_TipoDato': 1,\n",
       "  'Fecha': 1246399200000,\n",
       "  'Secreto': False,\n",
       "  'Valor': 260612.0},\n",
       " {'Anyo': 2009,\n",
       "  'FK_Periodo': 26,\n",
       "  'FK_TipoDato': 1,\n",
       "  'Fecha': 1230764400000,\n",
       "  'Secreto': False,\n",
       "  'Valor': 268221.0},\n",
       " {'Anyo': 2008,\n",
       "  'FK_Periodo': 27,\n",
       "  'FK_TipoDato': 1,\n",
       "  'Fecha': 1214863200000,\n",
       "  'Secreto': False,\n",
       "  'Valor': 259819.0},\n",
       " {'Anyo': 2008,\n",
       "  'FK_Periodo': 26,\n",
       "  'FK_TipoDato': 1,\n",
       "  'Fecha': 1199142000000,\n",
       "  'Secreto': False,\n",
       "  'Valor': 254589.0},\n",
       " {'Anyo': 2007,\n",
       "  'FK_Periodo': 27,\n",
       "  'FK_TipoDato': 1,\n",
       "  'Fecha': 1183240800000,\n",
       "  'Secreto': False,\n",
       "  'Valor': 249251.0},\n",
       " {'Anyo': 2007,\n",
       "  'FK_Periodo': 26,\n",
       "  'FK_TipoDato': 1,\n",
       "  'Fecha': 1167606000000,\n",
       "  'Secreto': False,\n",
       "  'Valor': 249535.0},\n",
       " {'Anyo': 2006,\n",
       "  'FK_Periodo': 27,\n",
       "  'FK_TipoDato': 1,\n",
       "  'Fecha': 1151704800000,\n",
       "  'Secreto': False,\n",
       "  'Valor': 243305.0},\n",
       " {'Anyo': 2006,\n",
       "  'FK_Periodo': 26,\n",
       "  'FK_TipoDato': 1,\n",
       "  'Fecha': 1136070000000,\n",
       "  'Secreto': False,\n",
       "  'Valor': 240395.0},\n",
       " {'Anyo': 2005,\n",
       "  'FK_Periodo': 27,\n",
       "  'FK_TipoDato': 1,\n",
       "  'Fecha': 1120168800000,\n",
       "  'Secreto': False,\n",
       "  'Valor': 235216.0},\n",
       " {'Anyo': 2005,\n",
       "  'FK_Periodo': 26,\n",
       "  'FK_TipoDato': 1,\n",
       "  'Fecha': 1104534000000,\n",
       "  'Secreto': False,\n",
       "  'Valor': 235081.0},\n",
       " {'Anyo': 2004,\n",
       "  'FK_Periodo': 27,\n",
       "  'FK_TipoDato': 1,\n",
       "  'Fecha': 1088632800000,\n",
       "  'Secreto': False,\n",
       "  'Valor': 228309.0},\n",
       " {'Anyo': 2004,\n",
       "  'FK_Periodo': 26,\n",
       "  'FK_TipoDato': 1,\n",
       "  'Fecha': 1072911600000,\n",
       "  'Secreto': False,\n",
       "  'Valor': 228104.0},\n",
       " {'Anyo': 2003,\n",
       "  'FK_Periodo': 27,\n",
       "  'FK_TipoDato': 1,\n",
       "  'Fecha': 1057010400000,\n",
       "  'Secreto': False,\n",
       "  'Valor': 221477.0},\n",
       " {'Anyo': 2003,\n",
       "  'FK_Periodo': 26,\n",
       "  'FK_TipoDato': 1,\n",
       "  'Fecha': 1041375600000,\n",
       "  'Secreto': False,\n",
       "  'Valor': 216148.0},\n",
       " {'Anyo': 2002,\n",
       "  'FK_Periodo': 27,\n",
       "  'FK_TipoDato': 1,\n",
       "  'Fecha': 1025474400000,\n",
       "  'Secreto': False,\n",
       "  'Valor': 210072.0},\n",
       " {'Anyo': 2002,\n",
       "  'FK_Periodo': 26,\n",
       "  'FK_TipoDato': 1,\n",
       "  'Fecha': 1009839600000,\n",
       "  'Secreto': False,\n",
       "  'Valor': 210646.0}]"
      ]
     },
     "execution_count": 27,
     "metadata": {},
     "output_type": "execute_result"
    }
   ],
   "source": [
    "df1.loc[[4]]['Data'].values[0]"
   ]
  },
  {
   "cell_type": "code",
   "execution_count": 28,
   "metadata": {
    "collapsed": true
   },
   "outputs": [],
   "source": [
    "dict_poblacion_16=[[df1.loc[[x]]['Nombre'].apply(spliteador_genero).values[0],int(df1.loc[[x]]['Nombre'].apply(spliteador_edad).values[0]),z['Valor']]\n",
    "                   for x in df1.index for z in df1.loc[[x]]['Data'].values[0] if z['Anyo']==2017]"
   ]
  },
  {
   "cell_type": "code",
   "execution_count": 29,
   "metadata": {
    "collapsed": true
   },
   "outputs": [],
   "source": [
    "trama=pd.DataFrame(dict_poblacion_16,columns=['Genero','Edad','Poblacion'])"
   ]
  },
  {
   "cell_type": "code",
   "execution_count": 30,
   "metadata": {},
   "outputs": [
    {
     "data": {
      "text/plain": [
       "<matplotlib.axes._subplots.AxesSubplot at 0x1160eba90>"
      ]
     },
     "execution_count": 30,
     "metadata": {},
     "output_type": "execute_result"
    },
    {
     "data": {
      "image/png": "[encoded data removed]",
      "text/plain": [
       "<matplotlib.figure.Figure at 0x116122c18>"
      ]
     },
     "metadata": {},
     "output_type": "display_data"
    }
   ],
   "source": [
    "trama.groupby('Edad')[['Poblacion']].sum().plot.bar()"
   ]
  },
  {
   "cell_type": "code",
   "execution_count": 31,
   "metadata": {},
   "outputs": [
    {
     "data": {
      "text/plain": [
       "<matplotlib.axes._subplots.AxesSubplot at 0x11a2b0f98>"
      ]
     },
     "execution_count": 31,
     "metadata": {},
     "output_type": "execute_result"
    },
    {
     "data": {
      "image/png": "[encoded data removed]",
      "text/plain": [
       "<matplotlib.figure.Figure at 0x11a25e940>"
      ]
     },
     "metadata": {},
     "output_type": "display_data"
    }
   ],
   "source": [
    "trama[trama['Genero']=='Hombres'].groupby('Edad')[['Poblacion']].sum().plot.bar()"
   ]
  },
  {
   "cell_type": "code",
   "execution_count": 32,
   "metadata": {},
   "outputs": [
    {
     "data": {
      "text/plain": [
       "<matplotlib.axes._subplots.AxesSubplot at 0x11a77feb8>"
      ]
     },
     "execution_count": 32,
     "metadata": {},
     "output_type": "execute_result"
    },
    {
     "data": {
      "image/png": "[encoded data removed]",
      "text/plain": [
       "<matplotlib.figure.Figure at 0x11aaa6c18>"
      ]
     },
     "metadata": {},
     "output_type": "display_data"
    }
   ],
   "source": [
    "trama[trama['Genero']=='Mujeres'].groupby(['Edad'])[['Poblacion']].sum().plot.bar()"
   ]
  },
  {
   "cell_type": "code",
   "execution_count": 33,
   "metadata": {},
   "outputs": [
    {
     "data": {
      "text/plain": [
       "<matplotlib.axes._subplots.AxesSubplot at 0x11ab1afd0>"
      ]
     },
     "execution_count": 33,
     "metadata": {},
     "output_type": "execute_result"
    },
    {
     "data": {
      "image/png": "[encoded data removed]",
      "text/plain": [
       "<matplotlib.figure.Figure at 0x11602b8d0>"
      ]
     },
     "metadata": {},
     "output_type": "display_data"
    }
   ],
   "source": [
    "trama.groupby(['Edad'])[['Poblacion']].sum().plot.barh()\n"
   ]
  },
  {
   "cell_type": "code",
   "execution_count": 34,
   "metadata": {
    "collapsed": true
   },
   "outputs": [],
   "source": [
    "dict_hombres=[[int(df1.loc[[x]]['Nombre'].apply(spliteador_edad).values[0]),z['Valor']] \n",
    "for x in df1.index if df1.loc[[x]]['Nombre'].apply(spliteador_genero).values[0]=='Hombres' \n",
    "for z in df1.loc[[x]]['Data'].values[0] if z['Anyo']==2017]"
   ]
  },
  {
   "cell_type": "code",
   "execution_count": 35,
   "metadata": {
    "collapsed": true
   },
   "outputs": [],
   "source": [
    "dict_mujeres=[[int(df1.loc[[x]]['Nombre'].apply(spliteador_edad).values[0]),z['Valor']] \n",
    "for x in df1.index if df1.loc[[x]]['Nombre'].apply(spliteador_genero).values[0]=='Mujeres' \n",
    "for z in df1.loc[[x]]['Data'].values[0] if z['Anyo']==2017]"
   ]
  },
  {
   "cell_type": "code",
   "execution_count": 36,
   "metadata": {
    "collapsed": true
   },
   "outputs": [],
   "source": [
    "panda_hombres=pd.DataFrame(dict_hombres,columns=['Edad','Hombres'])\n",
    "panda_mujeres=pd.DataFrame(dict_mujeres,columns=['Edad','Mujeres'])"
   ]
  },
  {
   "cell_type": "code",
   "execution_count": 37,
   "metadata": {
    "collapsed": true
   },
   "outputs": [],
   "source": [
    "panda_poblacion=pd.merge(panda_hombres,panda_mujeres,on='Edad')"
   ]
  },
  {
   "cell_type": "code",
   "execution_count": 38,
   "metadata": {},
   "outputs": [
    {
     "name": "stdout",
     "output_type": "stream",
     "text": [
      "[[  0.00000000e+00   2.09617000e+05   1.98177000e+05]\n",
      " [  1.00000000e+00   2.18078000e+05   2.05503000e+05]\n",
      " [  2.00000000e+00   2.22981000e+05   2.09052000e+05]\n",
      " [  3.00000000e+00   2.21075000e+05   2.08665000e+05]\n",
      " [  4.00000000e+00   2.34704000e+05   2.20532000e+05]\n",
      " [  5.00000000e+00   2.44405000e+05   2.29566000e+05]\n",
      " [  6.00000000e+00   2.47158000e+05   2.32215000e+05]\n",
      " [  7.00000000e+00   2.53140000e+05   2.36473000e+05]\n",
      " [  8.00000000e+00   2.66650000e+05   2.49693000e+05]\n",
      " [  9.00000000e+00   2.57660000e+05   2.41446000e+05]\n",
      " [  1.00000000e+01   2.56299000e+05   2.40133000e+05]\n",
      " [  1.10000000e+01   2.50339000e+05   2.36623000e+05]\n",
      " [  1.20000000e+01   2.48383000e+05   2.33400000e+05]\n",
      " [  1.30000000e+01   2.43341000e+05   2.30609000e+05]\n",
      " [  1.40000000e+01   2.34908000e+05   2.21633000e+05]\n",
      " [  1.50000000e+01   2.33100000e+05   2.21068000e+05]\n",
      " [  1.60000000e+01   2.34621000e+05   2.19090000e+05]\n",
      " [  1.70000000e+01   2.28314000e+05   2.15630000e+05]\n",
      " [  1.80000000e+01   2.24100000e+05   2.08766000e+05]\n",
      " [  1.90000000e+01   2.24978000e+05   2.13143000e+05]\n",
      " [  2.00000000e+01   2.23119000e+05   2.13028000e+05]\n",
      " [  2.10000000e+01   2.23937000e+05   2.12652000e+05]\n",
      " [  2.20000000e+01   2.26962000e+05   2.17076000e+05]\n",
      " [  2.30000000e+01   2.35616000e+05   2.27607000e+05]\n",
      " [  2.40000000e+01   2.43875000e+05   2.37147000e+05]\n",
      " [  2.50000000e+01   2.44027000e+05   2.37787000e+05]\n",
      " [  2.60000000e+01   2.47274000e+05   2.43944000e+05]\n",
      " [  2.70000000e+01   2.53004000e+05   2.50372000e+05]\n",
      " [  2.80000000e+01   2.57905000e+05   2.57687000e+05]\n",
      " [  2.90000000e+01   2.62511000e+05   2.63854000e+05]\n",
      " [  3.00000000e+01   2.70056000e+05   2.73089000e+05]\n",
      " [  3.10000000e+01   2.81551000e+05   2.83165000e+05]\n",
      " [  3.20000000e+01   2.93726000e+05   2.96071000e+05]\n",
      " [  3.30000000e+01   3.05463000e+05   3.06883000e+05]\n",
      " [  3.40000000e+01   3.25532000e+05   3.25507000e+05]\n",
      " [  3.50000000e+01   3.42509000e+05   3.39999000e+05]\n",
      " [  3.60000000e+01   3.61627000e+05   3.57731000e+05]\n",
      " [  3.70000000e+01   3.74340000e+05   3.68763000e+05]\n",
      " [  3.80000000e+01   3.94557000e+05   3.84886000e+05]\n",
      " [  3.90000000e+01   4.02912000e+05   3.89247000e+05]\n",
      " [  4.00000000e+01   4.09914000e+05   3.97629000e+05]\n",
      " [  4.10000000e+01   4.08712000e+05   3.93805000e+05]\n",
      " [  4.20000000e+01   4.04938000e+05   3.92274000e+05]\n",
      " [  4.30000000e+01   3.95711000e+05   3.82314000e+05]\n",
      " [  4.40000000e+01   3.93849000e+05   3.81189000e+05]\n",
      " [  4.50000000e+01   3.86760000e+05   3.75913000e+05]\n",
      " [  4.60000000e+01   3.81181000e+05   3.71316000e+05]\n",
      " [  4.70000000e+01   3.76265000e+05   3.68993000e+05]\n",
      " [  4.80000000e+01   3.72501000e+05   3.66531000e+05]\n",
      " [  4.90000000e+01   3.73198000e+05   3.69854000e+05]\n",
      " [  5.00000000e+01   3.63486000e+05   3.60605000e+05]\n",
      " [  5.10000000e+01   3.58372000e+05   3.59467000e+05]\n",
      " [  5.20000000e+01   3.61964000e+05   3.64077000e+05]\n",
      " [  5.30000000e+01   3.43903000e+05   3.46317000e+05]\n",
      " [  5.40000000e+01   3.30540000e+05   3.35976000e+05]\n",
      " [  5.50000000e+01   3.21225000e+05   3.28467000e+05]\n",
      " [  5.60000000e+01   3.21987000e+05   3.30078000e+05]\n",
      " [  5.70000000e+01   3.11635000e+05   3.20757000e+05]\n",
      " [  5.80000000e+01   3.03220000e+05   3.13809000e+05]\n",
      " [  5.90000000e+01   2.93938000e+05   3.06345000e+05]\n",
      " [  6.00000000e+01   2.72992000e+05   2.86041000e+05]\n",
      " [  6.10000000e+01   2.63357000e+05   2.77217000e+05]\n",
      " [  6.20000000e+01   2.49153000e+05   2.65476000e+05]\n",
      " [  6.30000000e+01   2.48666000e+05   2.64435000e+05]\n",
      " [  6.40000000e+01   2.46959000e+05   2.62246000e+05]\n",
      " [  6.50000000e+01   2.28833000e+05   2.46464000e+05]\n",
      " [  6.60000000e+01   2.22127000e+05   2.41374000e+05]\n",
      " [  6.70000000e+01   2.27462000e+05   2.51765000e+05]\n",
      " [  6.80000000e+01   2.36402000e+05   2.62401000e+05]\n",
      " [  6.90000000e+01   2.13829000e+05   2.39389000e+05]\n",
      " [  7.00000000e+01   2.00913000e+05   2.29253000e+05]\n",
      " [  7.10000000e+01   2.07544000e+05   2.38946000e+05]\n",
      " [  7.20000000e+01   1.94984000e+05   2.26535000e+05]\n",
      " [  7.30000000e+01   1.88538000e+05   2.21611000e+05]\n",
      " [  7.40000000e+01   1.60273000e+05   1.90182000e+05]\n",
      " [  7.50000000e+01   1.44489000e+05   1.74055000e+05]\n",
      " [  7.60000000e+01   1.71647000e+05   2.12569000e+05]\n",
      " [  7.70000000e+01   1.09395000e+05   1.42054000e+05]\n",
      " [  7.80000000e+01   1.20409000e+05   1.58282000e+05]\n",
      " [  7.90000000e+01   1.29673000e+05   1.74630000e+05]\n",
      " [  8.00000000e+01   1.34020000e+05   1.88939000e+05]\n",
      " [  8.10000000e+01   1.24823000e+05   1.77343000e+05]\n",
      " [  8.20000000e+01   1.16222000e+05   1.70613000e+05]\n",
      " [  8.30000000e+01   1.10654000e+05   1.68333000e+05]\n",
      " [  8.40000000e+01   1.01124000e+05   1.58844000e+05]\n",
      " [  8.50000000e+01   8.78210000e+04   1.41982000e+05]\n",
      " [  8.60000000e+01   7.76290000e+04   1.34862000e+05]\n",
      " [  8.70000000e+01   6.51610000e+04   1.17277000e+05]\n",
      " [  8.80000000e+01   5.55550000e+04   1.05801000e+05]\n",
      " [  8.90000000e+01   4.42730000e+04   8.86240000e+04]\n",
      " [  9.00000000e+01   3.68370000e+04   7.80870000e+04]\n",
      " [  9.10000000e+01   2.86610000e+04   6.43750000e+04]\n",
      " [  9.20000000e+01   2.24370000e+04   5.35640000e+04]\n",
      " [  9.30000000e+01   1.73710000e+04   4.26500000e+04]\n",
      " [  9.40000000e+01   1.26240000e+04   3.41390000e+04]\n",
      " [  9.50000000e+01   8.85700000e+03   2.47140000e+04]\n",
      " [  9.60000000e+01   5.98800000e+03   1.80600000e+04]\n",
      " [  9.70000000e+01   3.79100000e+03   1.19760000e+04]\n",
      " [  9.80000000e+01   2.54800000e+03   8.68700000e+03]\n",
      " [  9.90000000e+01   1.67300000e+03   5.99200000e+03]\n",
      " [  1.00000000e+02   1.19800000e+03   4.09200000e+03]\n",
      " [  1.01000000e+02   4.76000000e+02   2.27500000e+03]\n",
      " [  1.02000000e+02   2.79000000e+02   1.51200000e+03]\n",
      " [  1.03000000e+02   1.59000000e+02   9.01000000e+02]\n",
      " [  1.04000000e+02   1.00000000e+02   5.34000000e+02]\n",
      " [  1.05000000e+02   9.30000000e+01   5.65000000e+02]]\n"
     ]
    }
   ],
   "source": [
    "print (panda_poblacion.values)"
   ]
  },
  {
   "cell_type": "code",
   "execution_count": 39,
   "metadata": {},
   "outputs": [
    {
     "data": {
      "text/plain": [
       "0        0\n",
       "1        1\n",
       "2        2\n",
       "3        3\n",
       "4        4\n",
       "5        5\n",
       "6        6\n",
       "7        7\n",
       "8        8\n",
       "9        9\n",
       "10      10\n",
       "11      11\n",
       "12      12\n",
       "13      13\n",
       "14      14\n",
       "15      15\n",
       "16      16\n",
       "17      17\n",
       "18      18\n",
       "19      19\n",
       "20      20\n",
       "21      21\n",
       "22      22\n",
       "23      23\n",
       "24      24\n",
       "25      25\n",
       "26      26\n",
       "27      27\n",
       "28      28\n",
       "29      29\n",
       "      ... \n",
       "76      76\n",
       "77      77\n",
       "78      78\n",
       "79      79\n",
       "80      80\n",
       "81      81\n",
       "82      82\n",
       "83      83\n",
       "84      84\n",
       "85      85\n",
       "86      86\n",
       "87      87\n",
       "88      88\n",
       "89      89\n",
       "90      90\n",
       "91      91\n",
       "92      92\n",
       "93      93\n",
       "94      94\n",
       "95      95\n",
       "96      96\n",
       "97      97\n",
       "98      98\n",
       "99      99\n",
       "100    100\n",
       "101    101\n",
       "102    102\n",
       "103    103\n",
       "104    104\n",
       "105    105\n",
       "Name: Edad, Length: 106, dtype: int64"
      ]
     },
     "execution_count": 39,
     "metadata": {},
     "output_type": "execute_result"
    }
   ],
   "source": [
    "panda_poblacion['Edad']"
   ]
  },
  {
   "cell_type": "code",
   "execution_count": 40,
   "metadata": {},
   "outputs": [
    {
     "data": {
      "text/plain": [
       "<matplotlib.legend.Legend at 0x11b30a630>"
      ]
     },
     "execution_count": 40,
     "metadata": {},
     "output_type": "execute_result"
    },
    {
     "data": {
      "image/png": "[encoded data removed]",
      "text/plain": [
       "<matplotlib.figure.Figure at 0x11b30a438>"
      ]
     },
     "metadata": {},
     "output_type": "display_data"
    }
   ],
   "source": [
    "plt.plot(panda_poblacion['Edad'],panda_poblacion['Mujeres'],\n",
    "         panda_poblacion['Edad'],panda_poblacion['Hombres'])\n",
    "plt.legend(['Mujeres','Hombres'])"
   ]
  },
  {
   "cell_type": "code",
   "execution_count": null,
   "metadata": {
    "collapsed": true
   },
   "outputs": [],
   "source": []
  },
  {
   "cell_type": "code",
   "execution_count": 41,
   "metadata": {},
   "outputs": [
    {
     "data": {
      "text/plain": [
       "([<matplotlib.axis.XTick at 0x11b090400>,\n",
       "  <matplotlib.axis.XTick at 0x11b363710>,\n",
       "  <matplotlib.axis.XTick at 0x11b1877b8>,\n",
       "  <matplotlib.axis.XTick at 0x11b410198>,\n",
       "  <matplotlib.axis.XTick at 0x11b410ba8>,\n",
       "  <matplotlib.axis.XTick at 0x11b4155f8>,\n",
       "  <matplotlib.axis.XTick at 0x11b41a048>,\n",
       "  <matplotlib.axis.XTick at 0x11b41aa58>,\n",
       "  <matplotlib.axis.XTick at 0x11b41e4a8>,\n",
       "  <matplotlib.axis.XTick at 0x11b41eeb8>,\n",
       "  <matplotlib.axis.XTick at 0x11b423908>],\n",
       " <a list of 11 Text xticklabel objects>)"
      ]
     },
     "execution_count": 41,
     "metadata": {},
     "output_type": "execute_result"
    },
    {
     "data": {
      "image/png": "[encoded data removed]",
      "text/plain": [
       "<matplotlib.figure.Figure at 0x11b2dbcc0>"
      ]
     },
     "metadata": {},
     "output_type": "display_data"
    }
   ],
   "source": [
    "plt.plot(panda_poblacion['Edad'],panda_poblacion['Hombres']+panda_poblacion['Mujeres'])\n",
    "plt.locator_params(axis='x',nbins=25)\n",
    "plt.xlim([0,105])\n",
    "plt.tick_params(colors='b',width='2')\n",
    "plt.xlabel('Edad')\n",
    "plt.ylabel('Poblacion')\n",
    "plt.grid()\n",
    "plt.xticks([0,10,20,30,40,50,60,70,80,90,100],['0sad','10','20','30','40','50','60','70','80','90','100'])"
   ]
  },
  {
   "cell_type": "code",
   "execution_count": 42,
   "metadata": {
    "scrolled": true
   },
   "outputs": [
    {
     "data": {
      "text/plain": [
       "<matplotlib.text.Text at 0x11b3946d8>"
      ]
     },
     "execution_count": 42,
     "metadata": {},
     "output_type": "execute_result"
    },
    {
     "data": {
      "image/png": "[encoded data removed]",
      "text/plain": [
       "<matplotlib.figure.Figure at 0x11adc16a0>"
      ]
     },
     "metadata": {},
     "output_type": "display_data"
    }
   ],
   "source": [
    "plt.plot(-panda_poblacion['Hombres'],panda_poblacion['Edad'])\n",
    "plt.plot(panda_poblacion['Mujeres'],panda_poblacion['Edad'])\n",
    "plt.locator_params(axis='x',nbins=10)\n",
    "plt.ylim(0,105)\n",
    "plt.tick_params(colors='b',width='2')\n",
    "plt.xlabel('Poblacion')\n",
    "plt.ylabel('Edad')\n",
    "#plt.xticks([0,10,20,30,40,50,60,70,80,90,100],['0','10','20','30','40','50','60','70','80','90','100'])"
   ]
  },
  {
   "cell_type": "code",
   "execution_count": 43,
   "metadata": {},
   "outputs": [
    {
     "data": {
      "image/png": "[encoded data removed]",
      "text/plain": [
       "<matplotlib.figure.Figure at 0x11b634198>"
      ]
     },
     "metadata": {},
     "output_type": "display_data"
    }
   ],
   "source": [
    "#plt.rcdefaults()\n",
    "fig,ax = plt.subplots()\n",
    "y_pos = panda_poblacion['Edad']\n",
    "poblacion_mujeres = panda_poblacion['Mujeres']\n",
    "ax.barh(y_pos, poblacion_mujeres, align='center',\n",
    "        color='green', ecolor='black')\n",
    "ax.barh(y_pos,-panda_poblacion['Hombres'],align='center',color='blue',ecolor='black')\n",
    "ax.set_yticks(y_pos)\n",
    "\n",
    "#ax.invert_yaxis()  # labels read top-to-bottom\n",
    "ax.set_xlabel('Poblacion')\n",
    "ax.set_ylabel('Edad')\n",
    "ax.locator_params(axis='y',nbins=25)\n",
    "plt.ylim(0,105)\n",
    "ax.set_title('Piramide Poblacion España2017')\n",
    "ax.grid(True)\n",
    "plt.text(300000, 95, 'Mujeres')\n",
    "plt.text(-300000,95,'Hombres')\n",
    "plt.show()"
   ]
  },
  {
   "cell_type": "code",
   "execution_count": 47,
   "metadata": {},
   "outputs": [
    {
     "data": {
      "image/png": "[encoded data removed]",
      "text/plain": [
       "<matplotlib.figure.Figure at 0x11c3a8c88>"
      ]
     },
     "metadata": {},
     "output_type": "display_data"
    }
   ],
   "source": [
    "#plt.rcdefaults()\n",
    "posiciones_x=[-400000,-350000]\n",
    "etiquetas_x=['400','350']\n",
    "fig,ax = plt.subplots()\n",
    "y_pos = panda_poblacion['Edad']\n",
    "poblacion_mujeres = panda_poblacion['Mujeres']\n",
    "ax.barh(y_pos, poblacion_mujeres, align='center',\n",
    "        color='green', ecolor='black')\n",
    "ax.barh(y_pos,-panda_poblacion['Hombres'],align='center',color='blue',ecolor='black')\n",
    "ax.set_yticks(y_pos)\n",
    "ax.set_xticks([-400000,-350000,-300000,-250000,-200000,-150000,-100000,-50000,0,\n",
    "               50000,100000,150000,200000,250000,300000,350000,400000,])\n",
    "ax.set_xticklabels(['400','350','300','250','200','150','100','50','0'\n",
    "                    ,'50','100','150','200','250','300','350','400'])\n",
    "#ax.invert_yaxis()  # labels read top-to-bottom\n",
    "ax.set_xlabel('Poblacion (en miles)')\n",
    "ax.set_ylabel('Edad')\n",
    "ax.locator_params(axis='y',nbins=25)\n",
    "plt.ylim(0,105)\n",
    "ax.set_title('Piramide Poblacion España2017')\n",
    "ax.grid(True)\n",
    "plt.text(300000, 95, 'Mujeres',color='green')\n",
    "plt.text(-300000,95,'Hombres',color='blue')\n",
    "plt.show()"
   ]
  },
  {
   "cell_type": "code",
   "execution_count": null,
   "metadata": {
    "collapsed": true
   },
   "outputs": [],
   "source": []
  },
  {
   "cell_type": "code",
   "execution_count": null,
   "metadata": {
    "collapsed": true
   },
   "outputs": [],
   "source": []
  }
 ],
 "metadata": {
  "kernelspec": {
   "display_name": "Python 3",
   "language": "python",
   "name": "python3"
  },
  "language_info": {
   "codemirror_mode": {
    "name": "ipython",
    "version": 3
   },
   "file_extension": ".py",
   "mimetype": "text/x-python",
   "name": "python",
   "nbconvert_exporter": "python",
   "pygments_lexer": "ipython3",
   "version": "3.6.1"
  }
 },
 "nbformat": 4,
 "nbformat_minor": 2
}
