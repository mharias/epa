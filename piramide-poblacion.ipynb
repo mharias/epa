{
 "cells": [
  {
   "cell_type": "raw",
   "metadata": {},
   "source": [
    "Vamos a generar una piramide de poblacion, importando los datos desde INE, y con matplotlib"
   ]
  },
  {
   "cell_type": "code",
   "execution_count": 2,
   "metadata": {},
   "outputs": [],
   "source": [
    "import matplotlib"
   ]
  },
  {
   "cell_type": "code",
   "execution_count": 3,
   "metadata": {
    "collapsed": true
   },
   "outputs": [],
   "source": [
    "from plotly.graph_objs import *"
   ]
  },
  {
   "cell_type": "code",
   "execution_count": 4,
   "metadata": {},
   "outputs": [],
   "source": [
    "%matplotlib inline"
   ]
  },
  {
   "cell_type": "code",
   "execution_count": 5,
   "metadata": {
    "collapsed": true
   },
   "outputs": [],
   "source": [
    "import matplotlib.pyplot as plt"
   ]
  },
  {
   "cell_type": "code",
   "execution_count": 6,
   "metadata": {
    "collapsed": true
   },
   "outputs": [],
   "source": [
    "import pandas as pd"
   ]
  },
  {
   "cell_type": "code",
   "execution_count": 7,
   "metadata": {
    "collapsed": true
   },
   "outputs": [],
   "source": [
    "import numpy as np"
   ]
  },
  {
   "cell_type": "code",
   "execution_count": 7,
   "metadata": {
    "collapsed": true
   },
   "outputs": [],
   "source": [
    "import plotly.graph_objs as go"
   ]
  },
  {
   "cell_type": "code",
   "execution_count": 8,
   "metadata": {
    "collapsed": true
   },
   "outputs": [],
   "source": [
    "import plotly.plotly as py"
   ]
  },
  {
   "cell_type": "code",
   "execution_count": 9,
   "metadata": {
    "collapsed": true
   },
   "outputs": [],
   "source": [
    "import datetime, requests"
   ]
  },
  {
   "cell_type": "code",
   "execution_count": 14,
   "metadata": {
    "collapsed": true
   },
   "outputs": [],
   "source": [
    "url_plantilla_Serie = 'http://servicios.ine.es/wstempus/js/ES/DATOS_SERIE/{codigo}?nult={num_datos}'"
   ]
  },
  {
   "cell_type": "code",
   "execution_count": 15,
   "metadata": {
    "collapsed": true
   },
   "outputs": [],
   "source": [
    "url_plantilla_Tabla= 'http://servicios.ine.es/wstempus/js/ES/DATOS_TABLA/{codigo}?nult={num_datos}'"
   ]
  },
  {
   "cell_type": "markdown",
   "metadata": {},
   "source": [
    "# Primero importamos los datos"
   ]
  },
  {
   "cell_type": "code",
   "execution_count": 16,
   "metadata": {
    "collapsed": true
   },
   "outputs": [],
   "source": [
    "codigo = \"9663\""
   ]
  },
  {
   "cell_type": "code",
   "execution_count": 17,
   "metadata": {
    "collapsed": true
   },
   "outputs": [],
   "source": [
    "num_datos=100"
   ]
  },
  {
   "cell_type": "code",
   "execution_count": 18,
   "metadata": {},
   "outputs": [],
   "source": [
    "url = url_plantilla_Tabla.format(codigo=codigo,num_datos=num_datos)"
   ]
  },
  {
   "cell_type": "code",
   "execution_count": 21,
   "metadata": {
    "collapsed": true
   },
   "outputs": [],
   "source": [
    "respuesta_poblacion_16 = requests.get(url)"
   ]
  },
  {
   "cell_type": "code",
   "execution_count": 22,
   "metadata": {},
   "outputs": [],
   "source": [
    "datos_poblacion_16=pd.DataFrame(respuesta_poblacion_16.json())"
   ]
  },
  {
   "cell_type": "code",
   "execution_count": 23,
   "metadata": {
    "collapsed": true
   },
   "outputs": [],
   "source": [
    "datos_poblacion_16.drop([0,1,2,318,319,320],inplace=True)"
   ]
  },
  {
   "cell_type": "code",
   "execution_count": 24,
   "metadata": {
    "collapsed": true
   },
   "outputs": [],
   "source": [
    "spliteador_edad = lambda x: x.split('.')[1].split()[0]"
   ]
  },
  {
   "cell_type": "code",
   "execution_count": 25,
   "metadata": {
    "collapsed": true
   },
   "outputs": [],
   "source": [
    "spliteador_genero=lambda x: x.split('.')[2].strip()"
   ]
  },
  {
   "cell_type": "code",
   "execution_count": 72,
   "metadata": {},
   "outputs": [],
   "source": [
    "spliteador_edad_genero=lambda x: [x.split('.')[1].split()[0],x.split('.')[2].strip()]"
   ]
  },
  {
   "cell_type": "code",
   "execution_count": 26,
   "metadata": {
    "collapsed": true
   },
   "outputs": [],
   "source": [
    "df1=datos_poblacion_16[datos_poblacion_16['Nombre'].apply(spliteador_genero)!='Total']"
   ]
  },
  {
   "cell_type": "code",
   "execution_count": 138,
   "metadata": {},
   "outputs": [
    {
     "data": {
      "text/plain": [
       "[{'Anyo': 2017,\n",
       "  'FK_Periodo': 26,\n",
       "  'FK_TipoDato': 2,\n",
       "  'Fecha': 1483225200000,\n",
       "  'Secreto': False,\n",
       "  'Valor': 209617.0},\n",
       " {'Anyo': 2016,\n",
       "  'FK_Periodo': 27,\n",
       "  'FK_TipoDato': 2,\n",
       "  'Fecha': 1467324000000,\n",
       "  'Secreto': False,\n",
       "  'Valor': 210958.0},\n",
       " {'Anyo': 2016,\n",
       "  'FK_Periodo': 26,\n",
       "  'FK_TipoDato': 1,\n",
       "  'Fecha': 1451602800000,\n",
       "  'Secreto': False,\n",
       "  'Valor': 215948.0},\n",
       " {'Anyo': 2015,\n",
       "  'FK_Periodo': 27,\n",
       "  'FK_TipoDato': 1,\n",
       "  'Fecha': 1435701600000,\n",
       "  'Secreto': False,\n",
       "  'Valor': 215729.0},\n",
       " {'Anyo': 2015,\n",
       "  'FK_Periodo': 26,\n",
       "  'FK_TipoDato': 1,\n",
       "  'Fecha': 1420066800000,\n",
       "  'Secreto': False,\n",
       "  'Valor': 220124.0},\n",
       " {'Anyo': 2014,\n",
       "  'FK_Periodo': 27,\n",
       "  'FK_TipoDato': 1,\n",
       "  'Fecha': 1404165600000,\n",
       "  'Secreto': False,\n",
       "  'Valor': 216744.0},\n",
       " {'Anyo': 2014,\n",
       "  'FK_Periodo': 26,\n",
       "  'FK_TipoDato': 1,\n",
       "  'Fecha': 1388530800000,\n",
       "  'Secreto': False,\n",
       "  'Valor': 218576.0},\n",
       " {'Anyo': 2013,\n",
       "  'FK_Periodo': 27,\n",
       "  'FK_TipoDato': 1,\n",
       "  'Fecha': 1372629600000,\n",
       "  'Secreto': False,\n",
       "  'Valor': 223136.0},\n",
       " {'Anyo': 2013,\n",
       "  'FK_Periodo': 26,\n",
       "  'FK_TipoDato': 1,\n",
       "  'Fecha': 1356994800000,\n",
       "  'Secreto': False,\n",
       "  'Valor': 233648.0},\n",
       " {'Anyo': 2012,\n",
       "  'FK_Periodo': 27,\n",
       "  'FK_TipoDato': 1,\n",
       "  'Fecha': 1341093600000,\n",
       "  'Secreto': False,\n",
       "  'Valor': 238156.0},\n",
       " {'Anyo': 2012,\n",
       "  'FK_Periodo': 26,\n",
       "  'FK_TipoDato': 1,\n",
       "  'Fecha': 1325372400000,\n",
       "  'Secreto': False,\n",
       "  'Valor': 245029.0},\n",
       " {'Anyo': 2011,\n",
       "  'FK_Periodo': 27,\n",
       "  'FK_TipoDato': 1,\n",
       "  'Fecha': 1309471200000,\n",
       "  'Secreto': False,\n",
       "  'Valor': 244986.0},\n",
       " {'Anyo': 2011,\n",
       "  'FK_Periodo': 26,\n",
       "  'FK_TipoDato': 1,\n",
       "  'Fecha': 1293836400000,\n",
       "  'Secreto': False,\n",
       "  'Valor': 249568.0},\n",
       " {'Anyo': 2010,\n",
       "  'FK_Periodo': 27,\n",
       "  'FK_TipoDato': 1,\n",
       "  'Fecha': 1277935200000,\n",
       "  'Secreto': False,\n",
       "  'Valor': 247827.0},\n",
       " {'Anyo': 2010,\n",
       "  'FK_Periodo': 26,\n",
       "  'FK_TipoDato': 1,\n",
       "  'Fecha': 1262300400000,\n",
       "  'Secreto': False,\n",
       "  'Valor': 255371.0},\n",
       " {'Anyo': 2009,\n",
       "  'FK_Periodo': 27,\n",
       "  'FK_TipoDato': 1,\n",
       "  'Fecha': 1246399200000,\n",
       "  'Secreto': False,\n",
       "  'Valor': 260612.0},\n",
       " {'Anyo': 2009,\n",
       "  'FK_Periodo': 26,\n",
       "  'FK_TipoDato': 1,\n",
       "  'Fecha': 1230764400000,\n",
       "  'Secreto': False,\n",
       "  'Valor': 268221.0},\n",
       " {'Anyo': 2008,\n",
       "  'FK_Periodo': 27,\n",
       "  'FK_TipoDato': 1,\n",
       "  'Fecha': 1214863200000,\n",
       "  'Secreto': False,\n",
       "  'Valor': 259819.0},\n",
       " {'Anyo': 2008,\n",
       "  'FK_Periodo': 26,\n",
       "  'FK_TipoDato': 1,\n",
       "  'Fecha': 1199142000000,\n",
       "  'Secreto': False,\n",
       "  'Valor': 254589.0},\n",
       " {'Anyo': 2007,\n",
       "  'FK_Periodo': 27,\n",
       "  'FK_TipoDato': 1,\n",
       "  'Fecha': 1183240800000,\n",
       "  'Secreto': False,\n",
       "  'Valor': 249251.0},\n",
       " {'Anyo': 2007,\n",
       "  'FK_Periodo': 26,\n",
       "  'FK_TipoDato': 1,\n",
       "  'Fecha': 1167606000000,\n",
       "  'Secreto': False,\n",
       "  'Valor': 249535.0},\n",
       " {'Anyo': 2006,\n",
       "  'FK_Periodo': 27,\n",
       "  'FK_TipoDato': 1,\n",
       "  'Fecha': 1151704800000,\n",
       "  'Secreto': False,\n",
       "  'Valor': 243305.0},\n",
       " {'Anyo': 2006,\n",
       "  'FK_Periodo': 26,\n",
       "  'FK_TipoDato': 1,\n",
       "  'Fecha': 1136070000000,\n",
       "  'Secreto': False,\n",
       "  'Valor': 240395.0},\n",
       " {'Anyo': 2005,\n",
       "  'FK_Periodo': 27,\n",
       "  'FK_TipoDato': 1,\n",
       "  'Fecha': 1120168800000,\n",
       "  'Secreto': False,\n",
       "  'Valor': 235216.0},\n",
       " {'Anyo': 2005,\n",
       "  'FK_Periodo': 26,\n",
       "  'FK_TipoDato': 1,\n",
       "  'Fecha': 1104534000000,\n",
       "  'Secreto': False,\n",
       "  'Valor': 235081.0},\n",
       " {'Anyo': 2004,\n",
       "  'FK_Periodo': 27,\n",
       "  'FK_TipoDato': 1,\n",
       "  'Fecha': 1088632800000,\n",
       "  'Secreto': False,\n",
       "  'Valor': 228309.0},\n",
       " {'Anyo': 2004,\n",
       "  'FK_Periodo': 26,\n",
       "  'FK_TipoDato': 1,\n",
       "  'Fecha': 1072911600000,\n",
       "  'Secreto': False,\n",
       "  'Valor': 228104.0},\n",
       " {'Anyo': 2003,\n",
       "  'FK_Periodo': 27,\n",
       "  'FK_TipoDato': 1,\n",
       "  'Fecha': 1057010400000,\n",
       "  'Secreto': False,\n",
       "  'Valor': 221477.0},\n",
       " {'Anyo': 2003,\n",
       "  'FK_Periodo': 26,\n",
       "  'FK_TipoDato': 1,\n",
       "  'Fecha': 1041375600000,\n",
       "  'Secreto': False,\n",
       "  'Valor': 216148.0},\n",
       " {'Anyo': 2002,\n",
       "  'FK_Periodo': 27,\n",
       "  'FK_TipoDato': 1,\n",
       "  'Fecha': 1025474400000,\n",
       "  'Secreto': False,\n",
       "  'Valor': 210072.0},\n",
       " {'Anyo': 2002,\n",
       "  'FK_Periodo': 26,\n",
       "  'FK_TipoDato': 1,\n",
       "  'Fecha': 1009839600000,\n",
       "  'Secreto': False,\n",
       "  'Valor': 210646.0}]"
      ]
     },
     "execution_count": 138,
     "metadata": {},
     "output_type": "execute_result"
    }
   ],
   "source": [
    "df1.loc[[4]]['Data'].values[0]"
   ]
  },
  {
   "cell_type": "code",
   "execution_count": 123,
   "metadata": {},
   "outputs": [],
   "source": [
    "dict_poblacion_16=[[df1.loc[[x]]['Nombre'].apply(spliteador_genero).values[0],int(df1.loc[[x]]['Nombre'].apply(spliteador_edad).values[0]),z['Valor']]\n",
    "                   for x in df1.index for z in df1.loc[[x]]['Data'].values[0] if z['Anyo']==2017]"
   ]
  },
  {
   "cell_type": "code",
   "execution_count": 124,
   "metadata": {
    "collapsed": true
   },
   "outputs": [],
   "source": [
    "trama=pd.DataFrame(dict_poblacion_16,columns=['Genero','Edad','Poblacion'])"
   ]
  },
  {
   "cell_type": "code",
   "execution_count": 145,
   "metadata": {},
   "outputs": [
    {
     "data": {
      "text/plain": [
       "<matplotlib.axes._subplots.AxesSubplot at 0x117094a20>"
      ]
     },
     "execution_count": 145,
     "metadata": {},
     "output_type": "execute_result"
    },
    {
     "data": {
      "image/png": "[encoded data removed]",
      "text/plain": [
       "<matplotlib.figure.Figure at 0x116d6a278>"
      ]
     },
     "metadata": {},
     "output_type": "display_data"
    }
   ],
   "source": [
    "trama.groupby('Edad')[['Poblacion']].sum().plot.bar()"
   ]
  },
  {
   "cell_type": "code",
   "execution_count": 144,
   "metadata": {},
   "outputs": [
    {
     "data": {
      "text/plain": [
       "<matplotlib.axes._subplots.AxesSubplot at 0x116ddfe10>"
      ]
     },
     "execution_count": 144,
     "metadata": {},
     "output_type": "execute_result"
    },
    {
     "data": {
      "image/png": "[encoded data removed]",
      "text/plain": [
       "<matplotlib.figure.Figure at 0x116d8bf28>"
      ]
     },
     "metadata": {},
     "output_type": "display_data"
    }
   ],
   "source": [
    "trama[trama['Genero']=='Hombres'].groupby('Edad')[['Poblacion']].sum().plot.bar()"
   ]
  },
  {
   "cell_type": "code",
   "execution_count": 142,
   "metadata": {},
   "outputs": [
    {
     "data": {
      "text/plain": [
       "<matplotlib.axes._subplots.AxesSubplot at 0x116674e10>"
      ]
     },
     "execution_count": 142,
     "metadata": {},
     "output_type": "execute_result"
    },
    {
     "data": {
      "image/png": "[encoded data removed]",
      "text/plain": [
       "<matplotlib.figure.Figure at 0x112d4a4e0>"
      ]
     },
     "metadata": {},
     "output_type": "display_data"
    }
   ],
   "source": [
    "trama[trama['Genero']=='Mujeres'].groupby(['Edad'])[['Poblacion']].sum().plot.bar()"
   ]
  },
  {
   "cell_type": "code",
   "execution_count": 156,
   "metadata": {},
   "outputs": [
    {
     "data": {
      "text/plain": [
       "<matplotlib.axes._subplots.AxesSubplot at 0x1187c4fd0>"
      ]
     },
     "execution_count": 156,
     "metadata": {},
     "output_type": "execute_result"
    },
    {
     "data": {
      "image/png": "[encoded data removed]",
      "text/plain": [
       "<matplotlib.figure.Figure at 0x1188d7fd0>"
      ]
     },
     "metadata": {},
     "output_type": "display_data"
    }
   ],
   "source": [
    "trama.groupby(['Edad'])[['Poblacion']].sum().plot.barh()\n"
   ]
  },
  {
   "cell_type": "code",
   "execution_count": 167,
   "metadata": {},
   "outputs": [],
   "source": [
    "dict_hombres=[[int(df1.loc[[x]]['Nombre'].apply(spliteador_edad).values[0]),z['Valor']] \n",
    "for x in df1.index if df1.loc[[x]]['Nombre'].apply(spliteador_genero).values[0]=='Hombres' \n",
    "for z in df1.loc[[x]]['Data'].values[0] if z['Anyo']==2017]"
   ]
  },
  {
   "cell_type": "code",
   "execution_count": 168,
   "metadata": {
    "collapsed": true
   },
   "outputs": [],
   "source": [
    "dict_mujeres=[[int(df1.loc[[x]]['Nombre'].apply(spliteador_edad).values[0]),z['Valor']] \n",
    "for x in df1.index if df1.loc[[x]]['Nombre'].apply(spliteador_genero).values[0]=='Mujeres' \n",
    "for z in df1.loc[[x]]['Data'].values[0] if z['Anyo']==2017]"
   ]
  },
  {
   "cell_type": "code",
   "execution_count": 180,
   "metadata": {},
   "outputs": [],
   "source": [
    "panda_hombres=pd.DataFrame(dict_hombres,columns=['Edad','Hombres'])\n",
    "panda_mujeres=pd.DataFrame(dict_mujeres,columns=['Edad','Mujeres'])"
   ]
  },
  {
   "cell_type": "code",
   "execution_count": 184,
   "metadata": {},
   "outputs": [],
   "source": [
    "panda_poblacion=pd.merge(panda_hombres,panda_mujeres,on='Edad')"
   ]
  },
  {
   "cell_type": "code",
   "execution_count": 185,
   "metadata": {},
   "outputs": [
    {
     "data": {
      "text/html": [
       "<div>\n",
       "<style>\n",
       "    .dataframe thead tr:only-child th {\n",
       "        text-align: right;\n",
       "    }\n",
       "\n",
       "    .dataframe thead th {\n",
       "        text-align: left;\n",
       "    }\n",
       "\n",
       "    .dataframe tbody tr th {\n",
       "        vertical-align: top;\n",
       "    }\n",
       "</style>\n",
       "<table border=\"1\" class=\"dataframe\">\n",
       "  <thead>\n",
       "    <tr style=\"text-align: right;\">\n",
       "      <th></th>\n",
       "      <th>Edad</th>\n",
       "      <th>Hombres</th>\n",
       "      <th>Mujeres</th>\n",
       "    </tr>\n",
       "  </thead>\n",
       "  <tbody>\n",
       "    <tr>\n",
       "      <th>0</th>\n",
       "      <td>0</td>\n",
       "      <td>209617.0</td>\n",
       "      <td>198177.0</td>\n",
       "    </tr>\n",
       "    <tr>\n",
       "      <th>1</th>\n",
       "      <td>1</td>\n",
       "      <td>218078.0</td>\n",
       "      <td>205503.0</td>\n",
       "    </tr>\n",
       "    <tr>\n",
       "      <th>2</th>\n",
       "      <td>2</td>\n",
       "      <td>222981.0</td>\n",
       "      <td>209052.0</td>\n",
       "    </tr>\n",
       "    <tr>\n",
       "      <th>3</th>\n",
       "      <td>3</td>\n",
       "      <td>221075.0</td>\n",
       "      <td>208665.0</td>\n",
       "    </tr>\n",
       "    <tr>\n",
       "      <th>4</th>\n",
       "      <td>4</td>\n",
       "      <td>234704.0</td>\n",
       "      <td>220532.0</td>\n",
       "    </tr>\n",
       "    <tr>\n",
       "      <th>5</th>\n",
       "      <td>5</td>\n",
       "      <td>244405.0</td>\n",
       "      <td>229566.0</td>\n",
       "    </tr>\n",
       "    <tr>\n",
       "      <th>6</th>\n",
       "      <td>6</td>\n",
       "      <td>247158.0</td>\n",
       "      <td>232215.0</td>\n",
       "    </tr>\n",
       "    <tr>\n",
       "      <th>7</th>\n",
       "      <td>7</td>\n",
       "      <td>253140.0</td>\n",
       "      <td>236473.0</td>\n",
       "    </tr>\n",
       "    <tr>\n",
       "      <th>8</th>\n",
       "      <td>8</td>\n",
       "      <td>266650.0</td>\n",
       "      <td>249693.0</td>\n",
       "    </tr>\n",
       "    <tr>\n",
       "      <th>9</th>\n",
       "      <td>9</td>\n",
       "      <td>257660.0</td>\n",
       "      <td>241446.0</td>\n",
       "    </tr>\n",
       "    <tr>\n",
       "      <th>10</th>\n",
       "      <td>10</td>\n",
       "      <td>256299.0</td>\n",
       "      <td>240133.0</td>\n",
       "    </tr>\n",
       "    <tr>\n",
       "      <th>11</th>\n",
       "      <td>11</td>\n",
       "      <td>250339.0</td>\n",
       "      <td>236623.0</td>\n",
       "    </tr>\n",
       "    <tr>\n",
       "      <th>12</th>\n",
       "      <td>12</td>\n",
       "      <td>248383.0</td>\n",
       "      <td>233400.0</td>\n",
       "    </tr>\n",
       "    <tr>\n",
       "      <th>13</th>\n",
       "      <td>13</td>\n",
       "      <td>243341.0</td>\n",
       "      <td>230609.0</td>\n",
       "    </tr>\n",
       "    <tr>\n",
       "      <th>14</th>\n",
       "      <td>14</td>\n",
       "      <td>234908.0</td>\n",
       "      <td>221633.0</td>\n",
       "    </tr>\n",
       "    <tr>\n",
       "      <th>15</th>\n",
       "      <td>15</td>\n",
       "      <td>233100.0</td>\n",
       "      <td>221068.0</td>\n",
       "    </tr>\n",
       "    <tr>\n",
       "      <th>16</th>\n",
       "      <td>16</td>\n",
       "      <td>234621.0</td>\n",
       "      <td>219090.0</td>\n",
       "    </tr>\n",
       "    <tr>\n",
       "      <th>17</th>\n",
       "      <td>17</td>\n",
       "      <td>228314.0</td>\n",
       "      <td>215630.0</td>\n",
       "    </tr>\n",
       "    <tr>\n",
       "      <th>18</th>\n",
       "      <td>18</td>\n",
       "      <td>224100.0</td>\n",
       "      <td>208766.0</td>\n",
       "    </tr>\n",
       "    <tr>\n",
       "      <th>19</th>\n",
       "      <td>19</td>\n",
       "      <td>224978.0</td>\n",
       "      <td>213143.0</td>\n",
       "    </tr>\n",
       "    <tr>\n",
       "      <th>20</th>\n",
       "      <td>20</td>\n",
       "      <td>223119.0</td>\n",
       "      <td>213028.0</td>\n",
       "    </tr>\n",
       "    <tr>\n",
       "      <th>21</th>\n",
       "      <td>21</td>\n",
       "      <td>223937.0</td>\n",
       "      <td>212652.0</td>\n",
       "    </tr>\n",
       "    <tr>\n",
       "      <th>22</th>\n",
       "      <td>22</td>\n",
       "      <td>226962.0</td>\n",
       "      <td>217076.0</td>\n",
       "    </tr>\n",
       "    <tr>\n",
       "      <th>23</th>\n",
       "      <td>23</td>\n",
       "      <td>235616.0</td>\n",
       "      <td>227607.0</td>\n",
       "    </tr>\n",
       "    <tr>\n",
       "      <th>24</th>\n",
       "      <td>24</td>\n",
       "      <td>243875.0</td>\n",
       "      <td>237147.0</td>\n",
       "    </tr>\n",
       "    <tr>\n",
       "      <th>25</th>\n",
       "      <td>25</td>\n",
       "      <td>244027.0</td>\n",
       "      <td>237787.0</td>\n",
       "    </tr>\n",
       "    <tr>\n",
       "      <th>26</th>\n",
       "      <td>26</td>\n",
       "      <td>247274.0</td>\n",
       "      <td>243944.0</td>\n",
       "    </tr>\n",
       "    <tr>\n",
       "      <th>27</th>\n",
       "      <td>27</td>\n",
       "      <td>253004.0</td>\n",
       "      <td>250372.0</td>\n",
       "    </tr>\n",
       "    <tr>\n",
       "      <th>28</th>\n",
       "      <td>28</td>\n",
       "      <td>257905.0</td>\n",
       "      <td>257687.0</td>\n",
       "    </tr>\n",
       "    <tr>\n",
       "      <th>29</th>\n",
       "      <td>29</td>\n",
       "      <td>262511.0</td>\n",
       "      <td>263854.0</td>\n",
       "    </tr>\n",
       "    <tr>\n",
       "      <th>...</th>\n",
       "      <td>...</td>\n",
       "      <td>...</td>\n",
       "      <td>...</td>\n",
       "    </tr>\n",
       "    <tr>\n",
       "      <th>76</th>\n",
       "      <td>76</td>\n",
       "      <td>171647.0</td>\n",
       "      <td>212569.0</td>\n",
       "    </tr>\n",
       "    <tr>\n",
       "      <th>77</th>\n",
       "      <td>77</td>\n",
       "      <td>109395.0</td>\n",
       "      <td>142054.0</td>\n",
       "    </tr>\n",
       "    <tr>\n",
       "      <th>78</th>\n",
       "      <td>78</td>\n",
       "      <td>120409.0</td>\n",
       "      <td>158282.0</td>\n",
       "    </tr>\n",
       "    <tr>\n",
       "      <th>79</th>\n",
       "      <td>79</td>\n",
       "      <td>129673.0</td>\n",
       "      <td>174630.0</td>\n",
       "    </tr>\n",
       "    <tr>\n",
       "      <th>80</th>\n",
       "      <td>80</td>\n",
       "      <td>134020.0</td>\n",
       "      <td>188939.0</td>\n",
       "    </tr>\n",
       "    <tr>\n",
       "      <th>81</th>\n",
       "      <td>81</td>\n",
       "      <td>124823.0</td>\n",
       "      <td>177343.0</td>\n",
       "    </tr>\n",
       "    <tr>\n",
       "      <th>82</th>\n",
       "      <td>82</td>\n",
       "      <td>116222.0</td>\n",
       "      <td>170613.0</td>\n",
       "    </tr>\n",
       "    <tr>\n",
       "      <th>83</th>\n",
       "      <td>83</td>\n",
       "      <td>110654.0</td>\n",
       "      <td>168333.0</td>\n",
       "    </tr>\n",
       "    <tr>\n",
       "      <th>84</th>\n",
       "      <td>84</td>\n",
       "      <td>101124.0</td>\n",
       "      <td>158844.0</td>\n",
       "    </tr>\n",
       "    <tr>\n",
       "      <th>85</th>\n",
       "      <td>85</td>\n",
       "      <td>87821.0</td>\n",
       "      <td>141982.0</td>\n",
       "    </tr>\n",
       "    <tr>\n",
       "      <th>86</th>\n",
       "      <td>86</td>\n",
       "      <td>77629.0</td>\n",
       "      <td>134862.0</td>\n",
       "    </tr>\n",
       "    <tr>\n",
       "      <th>87</th>\n",
       "      <td>87</td>\n",
       "      <td>65161.0</td>\n",
       "      <td>117277.0</td>\n",
       "    </tr>\n",
       "    <tr>\n",
       "      <th>88</th>\n",
       "      <td>88</td>\n",
       "      <td>55555.0</td>\n",
       "      <td>105801.0</td>\n",
       "    </tr>\n",
       "    <tr>\n",
       "      <th>89</th>\n",
       "      <td>89</td>\n",
       "      <td>44273.0</td>\n",
       "      <td>88624.0</td>\n",
       "    </tr>\n",
       "    <tr>\n",
       "      <th>90</th>\n",
       "      <td>90</td>\n",
       "      <td>36837.0</td>\n",
       "      <td>78087.0</td>\n",
       "    </tr>\n",
       "    <tr>\n",
       "      <th>91</th>\n",
       "      <td>91</td>\n",
       "      <td>28661.0</td>\n",
       "      <td>64375.0</td>\n",
       "    </tr>\n",
       "    <tr>\n",
       "      <th>92</th>\n",
       "      <td>92</td>\n",
       "      <td>22437.0</td>\n",
       "      <td>53564.0</td>\n",
       "    </tr>\n",
       "    <tr>\n",
       "      <th>93</th>\n",
       "      <td>93</td>\n",
       "      <td>17371.0</td>\n",
       "      <td>42650.0</td>\n",
       "    </tr>\n",
       "    <tr>\n",
       "      <th>94</th>\n",
       "      <td>94</td>\n",
       "      <td>12624.0</td>\n",
       "      <td>34139.0</td>\n",
       "    </tr>\n",
       "    <tr>\n",
       "      <th>95</th>\n",
       "      <td>95</td>\n",
       "      <td>8857.0</td>\n",
       "      <td>24714.0</td>\n",
       "    </tr>\n",
       "    <tr>\n",
       "      <th>96</th>\n",
       "      <td>96</td>\n",
       "      <td>5988.0</td>\n",
       "      <td>18060.0</td>\n",
       "    </tr>\n",
       "    <tr>\n",
       "      <th>97</th>\n",
       "      <td>97</td>\n",
       "      <td>3791.0</td>\n",
       "      <td>11976.0</td>\n",
       "    </tr>\n",
       "    <tr>\n",
       "      <th>98</th>\n",
       "      <td>98</td>\n",
       "      <td>2548.0</td>\n",
       "      <td>8687.0</td>\n",
       "    </tr>\n",
       "    <tr>\n",
       "      <th>99</th>\n",
       "      <td>99</td>\n",
       "      <td>1673.0</td>\n",
       "      <td>5992.0</td>\n",
       "    </tr>\n",
       "    <tr>\n",
       "      <th>100</th>\n",
       "      <td>100</td>\n",
       "      <td>1198.0</td>\n",
       "      <td>4092.0</td>\n",
       "    </tr>\n",
       "    <tr>\n",
       "      <th>101</th>\n",
       "      <td>101</td>\n",
       "      <td>476.0</td>\n",
       "      <td>2275.0</td>\n",
       "    </tr>\n",
       "    <tr>\n",
       "      <th>102</th>\n",
       "      <td>102</td>\n",
       "      <td>279.0</td>\n",
       "      <td>1512.0</td>\n",
       "    </tr>\n",
       "    <tr>\n",
       "      <th>103</th>\n",
       "      <td>103</td>\n",
       "      <td>159.0</td>\n",
       "      <td>901.0</td>\n",
       "    </tr>\n",
       "    <tr>\n",
       "      <th>104</th>\n",
       "      <td>104</td>\n",
       "      <td>100.0</td>\n",
       "      <td>534.0</td>\n",
       "    </tr>\n",
       "    <tr>\n",
       "      <th>105</th>\n",
       "      <td>105</td>\n",
       "      <td>93.0</td>\n",
       "      <td>565.0</td>\n",
       "    </tr>\n",
       "  </tbody>\n",
       "</table>\n",
       "<p>106 rows × 3 columns</p>\n",
       "</div>"
      ],
      "text/plain": [
       "     Edad   Hombres   Mujeres\n",
       "0       0  209617.0  198177.0\n",
       "1       1  218078.0  205503.0\n",
       "2       2  222981.0  209052.0\n",
       "3       3  221075.0  208665.0\n",
       "4       4  234704.0  220532.0\n",
       "5       5  244405.0  229566.0\n",
       "6       6  247158.0  232215.0\n",
       "7       7  253140.0  236473.0\n",
       "8       8  266650.0  249693.0\n",
       "9       9  257660.0  241446.0\n",
       "10     10  256299.0  240133.0\n",
       "11     11  250339.0  236623.0\n",
       "12     12  248383.0  233400.0\n",
       "13     13  243341.0  230609.0\n",
       "14     14  234908.0  221633.0\n",
       "15     15  233100.0  221068.0\n",
       "16     16  234621.0  219090.0\n",
       "17     17  228314.0  215630.0\n",
       "18     18  224100.0  208766.0\n",
       "19     19  224978.0  213143.0\n",
       "20     20  223119.0  213028.0\n",
       "21     21  223937.0  212652.0\n",
       "22     22  226962.0  217076.0\n",
       "23     23  235616.0  227607.0\n",
       "24     24  243875.0  237147.0\n",
       "25     25  244027.0  237787.0\n",
       "26     26  247274.0  243944.0\n",
       "27     27  253004.0  250372.0\n",
       "28     28  257905.0  257687.0\n",
       "29     29  262511.0  263854.0\n",
       "..    ...       ...       ...\n",
       "76     76  171647.0  212569.0\n",
       "77     77  109395.0  142054.0\n",
       "78     78  120409.0  158282.0\n",
       "79     79  129673.0  174630.0\n",
       "80     80  134020.0  188939.0\n",
       "81     81  124823.0  177343.0\n",
       "82     82  116222.0  170613.0\n",
       "83     83  110654.0  168333.0\n",
       "84     84  101124.0  158844.0\n",
       "85     85   87821.0  141982.0\n",
       "86     86   77629.0  134862.0\n",
       "87     87   65161.0  117277.0\n",
       "88     88   55555.0  105801.0\n",
       "89     89   44273.0   88624.0\n",
       "90     90   36837.0   78087.0\n",
       "91     91   28661.0   64375.0\n",
       "92     92   22437.0   53564.0\n",
       "93     93   17371.0   42650.0\n",
       "94     94   12624.0   34139.0\n",
       "95     95    8857.0   24714.0\n",
       "96     96    5988.0   18060.0\n",
       "97     97    3791.0   11976.0\n",
       "98     98    2548.0    8687.0\n",
       "99     99    1673.0    5992.0\n",
       "100   100    1198.0    4092.0\n",
       "101   101     476.0    2275.0\n",
       "102   102     279.0    1512.0\n",
       "103   103     159.0     901.0\n",
       "104   104     100.0     534.0\n",
       "105   105      93.0     565.0\n",
       "\n",
       "[106 rows x 3 columns]"
      ]
     },
     "execution_count": 185,
     "metadata": {},
     "output_type": "execute_result"
    }
   ],
   "source": [
    "panda_poblacion"
   ]
  },
  {
   "cell_type": "code",
   "execution_count": 186,
   "metadata": {},
   "outputs": [
    {
     "data": {
      "text/plain": [
       "0        0\n",
       "1        1\n",
       "2        2\n",
       "3        3\n",
       "4        4\n",
       "5        5\n",
       "6        6\n",
       "7        7\n",
       "8        8\n",
       "9        9\n",
       "10      10\n",
       "11      11\n",
       "12      12\n",
       "13      13\n",
       "14      14\n",
       "15      15\n",
       "16      16\n",
       "17      17\n",
       "18      18\n",
       "19      19\n",
       "20      20\n",
       "21      21\n",
       "22      22\n",
       "23      23\n",
       "24      24\n",
       "25      25\n",
       "26      26\n",
       "27      27\n",
       "28      28\n",
       "29      29\n",
       "      ... \n",
       "76      76\n",
       "77      77\n",
       "78      78\n",
       "79      79\n",
       "80      80\n",
       "81      81\n",
       "82      82\n",
       "83      83\n",
       "84      84\n",
       "85      85\n",
       "86      86\n",
       "87      87\n",
       "88      88\n",
       "89      89\n",
       "90      90\n",
       "91      91\n",
       "92      92\n",
       "93      93\n",
       "94      94\n",
       "95      95\n",
       "96      96\n",
       "97      97\n",
       "98      98\n",
       "99      99\n",
       "100    100\n",
       "101    101\n",
       "102    102\n",
       "103    103\n",
       "104    104\n",
       "105    105\n",
       "Name: Edad, Length: 106, dtype: int64"
      ]
     },
     "execution_count": 186,
     "metadata": {},
     "output_type": "execute_result"
    }
   ],
   "source": [
    "panda_poblacion['Edad']"
   ]
  },
  {
   "cell_type": "code",
   "execution_count": 205,
   "metadata": {},
   "outputs": [
    {
     "data": {
      "text/plain": [
       "<matplotlib.legend.Legend at 0x11a66aa90>"
      ]
     },
     "execution_count": 205,
     "metadata": {},
     "output_type": "execute_result"
    },
    {
     "data": {
      "image/png": "[encoded data removed]",
      "text/plain": [
       "<matplotlib.figure.Figure at 0x11a66a9b0>"
      ]
     },
     "metadata": {},
     "output_type": "display_data"
    }
   ],
   "source": [
    "plt.plot(panda_poblacion['Edad'],panda_poblacion['Mujeres'],\n",
    "         panda_poblacion['Edad'],panda_poblacion['Hombres'])\n",
    "plt.legend(['Mujeres','Hombres'])"
   ]
  },
  {
   "cell_type": "code",
   "execution_count": 195,
   "metadata": {},
   "outputs": [
    {
     "data": {
      "text/plain": [
       "[<matplotlib.lines.Line2D at 0x119b2a438>]"
      ]
     },
     "execution_count": 195,
     "metadata": {},
     "output_type": "execute_result"
    },
    {
     "data": {
      "image/png": "[encoded data removed]",
      "text/plain": [
       "<matplotlib.figure.Figure at 0x119af3d30>"
      ]
     },
     "metadata": {},
     "output_type": "display_data"
    }
   ],
   "source": [
    "plt.plot(panda_poblacion['Edad'],panda_poblacion['Hombres']+panda_poblacion['Mujeres'])"
   ]
  },
  {
   "cell_type": "code",
   "execution_count": null,
   "metadata": {
    "collapsed": true
   },
   "outputs": [],
   "source": []
  }
 ],
 "metadata": {
  "kernelspec": {
   "display_name": "Python 3",
   "language": "python",
   "name": "python3"
  }
 },
 "nbformat": 4,
 "nbformat_minor": 2
}
