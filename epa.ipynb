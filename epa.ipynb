{
 "cells": [
  {
   "cell_type": "raw",
   "metadata": {},
   "source": [
    "En este Notebook vamos a mover el Json directamente a un Pandas, tal cual lo hemos hecho en en EPA-PAndas-Poblacion"
   ]
  },
  {
   "cell_type": "code",
   "execution_count": 318,
   "metadata": {
    "collapsed": true
   },
   "outputs": [],
   "source": [
    "import pandas as pd"
   ]
  },
  {
   "cell_type": "code",
   "execution_count": 319,
   "metadata": {
    "collapsed": true
   },
   "outputs": [],
   "source": [
    "from plotly.graph_objs import *"
   ]
  },
  {
   "cell_type": "code",
   "execution_count": 320,
   "metadata": {
    "collapsed": true
   },
   "outputs": [],
   "source": [
    "import numpy as np"
   ]
  },
  {
   "cell_type": "code",
   "execution_count": 321,
   "metadata": {
    "collapsed": true
   },
   "outputs": [],
   "source": [
    "import plotly.graph_objs as go"
   ]
  },
  {
   "cell_type": "code",
   "execution_count": 322,
   "metadata": {
    "collapsed": true
   },
   "outputs": [],
   "source": [
    "import plotly.plotly as py"
   ]
  },
  {
   "cell_type": "code",
   "execution_count": 323,
   "metadata": {
    "collapsed": true
   },
   "outputs": [],
   "source": [
    "import datetime, requests"
   ]
  },
  {
   "cell_type": "code",
   "execution_count": 324,
   "metadata": {
    "collapsed": true
   },
   "outputs": [],
   "source": [
    "url_plantilla_Serie = 'http://servicios.ine.es/wstempus/js/ES/DATOS_SERIE/{codigo}?nult={num_datos}'"
   ]
  },
  {
   "cell_type": "code",
   "execution_count": 325,
   "metadata": {
    "collapsed": true
   },
   "outputs": [],
   "source": [
    "url_plantilla_Tabla= 'http://servicios.ine.es/wstempus/js/ES/DATOS_TABLA/{codigo}?nult={num_datos}'"
   ]
  },
  {
   "cell_type": "markdown",
   "metadata": {},
   "source": [
    "# Tabla con Inactivos"
   ]
  },
  {
   "cell_type": "code",
   "execution_count": 326,
   "metadata": {
    "collapsed": true
   },
   "outputs": [],
   "source": [
    "codigo = \"EPA84\""
   ]
  },
  {
   "cell_type": "code",
   "execution_count": 327,
   "metadata": {
    "collapsed": true
   },
   "outputs": [],
   "source": [
    "num_datos = 100"
   ]
  },
  {
   "cell_type": "code",
   "execution_count": 328,
   "metadata": {
    "collapsed": true
   },
   "outputs": [],
   "source": [
    "url = url_plantilla_Serie.format(codigo=codigo, num_datos=num_datos)"
   ]
  },
  {
   "cell_type": "code",
   "execution_count": 329,
   "metadata": {
    "collapsed": true
   },
   "outputs": [],
   "source": [
    "respuesta = requests.get(url)"
   ]
  },
  {
   "cell_type": "code",
   "execution_count": 330,
   "metadata": {},
   "outputs": [
    {
     "data": {
      "text/plain": [
       "{'COD': 'EPA84',\n",
       " 'Data': [{'Anyo': 2002,\n",
       "   'FK_Periodo': 19,\n",
       "   'FK_TipoDato': 1,\n",
       "   'Fecha': 1009839600000,\n",
       "   'Secreto': False,\n",
       "   'Valor': 15835.5},\n",
       "  {'Anyo': 2002,\n",
       "   'FK_Periodo': 20,\n",
       "   'FK_TipoDato': 1,\n",
       "   'Fecha': 1017612000000,\n",
       "   'Secreto': False,\n",
       "   'Valor': 15769.2},\n",
       "  {'Anyo': 2002,\n",
       "   'FK_Periodo': 21,\n",
       "   'FK_TipoDato': 1,\n",
       "   'Fecha': 1025474400000,\n",
       "   'Secreto': False,\n",
       "   'Valor': 15689.5},\n",
       "  {'Anyo': 2002,\n",
       "   'FK_Periodo': 22,\n",
       "   'FK_TipoDato': 1,\n",
       "   'Fecha': 1033423200000,\n",
       "   'Secreto': False,\n",
       "   'Valor': 15758.1},\n",
       "  {'Anyo': 2003,\n",
       "   'FK_Periodo': 19,\n",
       "   'FK_TipoDato': 1,\n",
       "   'Fecha': 1041375600000,\n",
       "   'Secreto': False,\n",
       "   'Valor': 15712.8},\n",
       "  {'Anyo': 2003,\n",
       "   'FK_Periodo': 20,\n",
       "   'FK_TipoDato': 1,\n",
       "   'Fecha': 1049148000000,\n",
       "   'Secreto': False,\n",
       "   'Valor': 15649.4},\n",
       "  {'Anyo': 2003,\n",
       "   'FK_Periodo': 21,\n",
       "   'FK_TipoDato': 1,\n",
       "   'Fecha': 1057010400000,\n",
       "   'Secreto': False,\n",
       "   'Valor': 15537.2},\n",
       "  {'Anyo': 2003,\n",
       "   'FK_Periodo': 22,\n",
       "   'FK_TipoDato': 1,\n",
       "   'Fecha': 1064959200000,\n",
       "   'Secreto': False,\n",
       "   'Valor': 15565.8},\n",
       "  {'Anyo': 2004,\n",
       "   'FK_Periodo': 19,\n",
       "   'FK_TipoDato': 1,\n",
       "   'Fecha': 1072911600000,\n",
       "   'Secreto': False,\n",
       "   'Valor': 15624.9},\n",
       "  {'Anyo': 2004,\n",
       "   'FK_Periodo': 20,\n",
       "   'FK_TipoDato': 1,\n",
       "   'Fecha': 1080770400000,\n",
       "   'Secreto': False,\n",
       "   'Valor': 15571.9},\n",
       "  {'Anyo': 2004,\n",
       "   'FK_Periodo': 21,\n",
       "   'FK_TipoDato': 1,\n",
       "   'Fecha': 1088632800000,\n",
       "   'Secreto': False,\n",
       "   'Valor': 15498.7},\n",
       "  {'Anyo': 2004,\n",
       "   'FK_Periodo': 22,\n",
       "   'FK_TipoDato': 1,\n",
       "   'Fecha': 1096581600000,\n",
       "   'Secreto': False,\n",
       "   'Valor': 15516.6},\n",
       "  {'Anyo': 2005,\n",
       "   'FK_Periodo': 19,\n",
       "   'FK_TipoDato': 1,\n",
       "   'Fecha': 1104534000000,\n",
       "   'Secreto': False,\n",
       "   'Valor': 15494.0},\n",
       "  {'Anyo': 2005,\n",
       "   'FK_Periodo': 20,\n",
       "   'FK_TipoDato': 1,\n",
       "   'Fecha': 1112306400000,\n",
       "   'Secreto': False,\n",
       "   'Valor': 15389.4},\n",
       "  {'Anyo': 2005,\n",
       "   'FK_Periodo': 21,\n",
       "   'FK_TipoDato': 1,\n",
       "   'Fecha': 1120168800000,\n",
       "   'Secreto': False,\n",
       "   'Valor': 15445.0},\n",
       "  {'Anyo': 2005,\n",
       "   'FK_Periodo': 22,\n",
       "   'FK_TipoDato': 1,\n",
       "   'Fecha': 1128117600000,\n",
       "   'Secreto': False,\n",
       "   'Valor': 15426.9},\n",
       "  {'Anyo': 2006,\n",
       "   'FK_Periodo': 19,\n",
       "   'FK_TipoDato': 1,\n",
       "   'Fecha': 1136070000000,\n",
       "   'Secreto': False,\n",
       "   'Valor': 15396.2},\n",
       "  {'Anyo': 2006,\n",
       "   'FK_Periodo': 20,\n",
       "   'FK_TipoDato': 1,\n",
       "   'Fecha': 1143842400000,\n",
       "   'Secreto': False,\n",
       "   'Valor': 15329.7},\n",
       "  {'Anyo': 2006,\n",
       "   'FK_Periodo': 21,\n",
       "   'FK_TipoDato': 1,\n",
       "   'Fecha': 1151704800000,\n",
       "   'Secreto': False,\n",
       "   'Valor': 15351.7},\n",
       "  {'Anyo': 2006,\n",
       "   'FK_Periodo': 22,\n",
       "   'FK_TipoDato': 1,\n",
       "   'Fecha': 1159653600000,\n",
       "   'Secreto': False,\n",
       "   'Valor': 15373.8},\n",
       "  {'Anyo': 2007,\n",
       "   'FK_Periodo': 19,\n",
       "   'FK_TipoDato': 1,\n",
       "   'Fecha': 1167606000000,\n",
       "   'Secreto': False,\n",
       "   'Valor': 15440.2},\n",
       "  {'Anyo': 2007,\n",
       "   'FK_Periodo': 20,\n",
       "   'FK_TipoDato': 1,\n",
       "   'Fecha': 1175378400000,\n",
       "   'Secreto': False,\n",
       "   'Valor': 15389.8},\n",
       "  {'Anyo': 2007,\n",
       "   'FK_Periodo': 21,\n",
       "   'FK_TipoDato': 1,\n",
       "   'Fecha': 1183240800000,\n",
       "   'Secreto': False,\n",
       "   'Valor': 15356.8},\n",
       "  {'Anyo': 2007,\n",
       "   'FK_Periodo': 22,\n",
       "   'FK_TipoDato': 1,\n",
       "   'Fecha': 1191189600000,\n",
       "   'Secreto': False,\n",
       "   'Valor': 15441.3},\n",
       "  {'Anyo': 2008,\n",
       "   'FK_Periodo': 19,\n",
       "   'FK_TipoDato': 1,\n",
       "   'Fecha': 1199142000000,\n",
       "   'Secreto': False,\n",
       "   'Valor': 15414.0},\n",
       "  {'Anyo': 2008,\n",
       "   'FK_Periodo': 20,\n",
       "   'FK_TipoDato': 1,\n",
       "   'Fecha': 1207000800000,\n",
       "   'Secreto': False,\n",
       "   'Valor': 15309.0},\n",
       "  {'Anyo': 2008,\n",
       "   'FK_Periodo': 21,\n",
       "   'FK_TipoDato': 1,\n",
       "   'Fecha': 1214863200000,\n",
       "   'Secreto': False,\n",
       "   'Valor': 15290.7},\n",
       "  {'Anyo': 2008,\n",
       "   'FK_Periodo': 22,\n",
       "   'FK_TipoDato': 1,\n",
       "   'Fecha': 1222812000000,\n",
       "   'Secreto': False,\n",
       "   'Valor': 15284.5},\n",
       "  {'Anyo': 2009,\n",
       "   'FK_Periodo': 19,\n",
       "   'FK_TipoDato': 1,\n",
       "   'Fecha': 1230764400000,\n",
       "   'Secreto': False,\n",
       "   'Valor': 15286.7},\n",
       "  {'Anyo': 2009,\n",
       "   'FK_Periodo': 20,\n",
       "   'FK_TipoDato': 1,\n",
       "   'Fecha': 1238536800000,\n",
       "   'Secreto': False,\n",
       "   'Valor': 15337.6},\n",
       "  {'Anyo': 2009,\n",
       "   'FK_Periodo': 21,\n",
       "   'FK_TipoDato': 1,\n",
       "   'Fecha': 1246399200000,\n",
       "   'Secreto': False,\n",
       "   'Valor': 15450.3},\n",
       "  {'Anyo': 2009,\n",
       "   'FK_Periodo': 22,\n",
       "   'FK_TipoDato': 1,\n",
       "   'Fecha': 1254348000000,\n",
       "   'Secreto': False,\n",
       "   'Valor': 15487.5},\n",
       "  {'Anyo': 2010,\n",
       "   'FK_Periodo': 19,\n",
       "   'FK_TipoDato': 1,\n",
       "   'Fecha': 1262300400000,\n",
       "   'Secreto': False,\n",
       "   'Valor': 15454.4},\n",
       "  {'Anyo': 2010,\n",
       "   'FK_Periodo': 20,\n",
       "   'FK_TipoDato': 1,\n",
       "   'Fecha': 1270072800000,\n",
       "   'Secreto': False,\n",
       "   'Valor': 15338.6},\n",
       "  {'Anyo': 2010,\n",
       "   'FK_Periodo': 21,\n",
       "   'FK_TipoDato': 1,\n",
       "   'Fecha': 1277935200000,\n",
       "   'Secreto': False,\n",
       "   'Valor': 15364.3},\n",
       "  {'Anyo': 2010,\n",
       "   'FK_Periodo': 22,\n",
       "   'FK_TipoDato': 1,\n",
       "   'Fecha': 1285884000000,\n",
       "   'Secreto': False,\n",
       "   'Valor': 15424.7},\n",
       "  {'Anyo': 2011,\n",
       "   'FK_Periodo': 19,\n",
       "   'FK_TipoDato': 1,\n",
       "   'Fecha': 1293836400000,\n",
       "   'Secreto': False,\n",
       "   'Valor': 15461.4},\n",
       "  {'Anyo': 2011,\n",
       "   'FK_Periodo': 20,\n",
       "   'FK_TipoDato': 1,\n",
       "   'Fecha': 1301608800000,\n",
       "   'Secreto': False,\n",
       "   'Valor': 15360.9},\n",
       "  {'Anyo': 2011,\n",
       "   'FK_Periodo': 21,\n",
       "   'FK_TipoDato': 1,\n",
       "   'Fecha': 1309471200000,\n",
       "   'Secreto': False,\n",
       "   'Valor': 15369.1},\n",
       "  {'Anyo': 2011,\n",
       "   'FK_Periodo': 22,\n",
       "   'FK_TipoDato': 1,\n",
       "   'Fecha': 1317420000000,\n",
       "   'Secreto': False,\n",
       "   'Valor': 15441.5},\n",
       "  {'Anyo': 2012,\n",
       "   'FK_Periodo': 19,\n",
       "   'FK_TipoDato': 1,\n",
       "   'Fecha': 1325372400000,\n",
       "   'Secreto': False,\n",
       "   'Valor': 15421.2},\n",
       "  {'Anyo': 2012,\n",
       "   'FK_Periodo': 20,\n",
       "   'FK_TipoDato': 1,\n",
       "   'Fecha': 1333231200000,\n",
       "   'Secreto': False,\n",
       "   'Valor': 15334.1},\n",
       "  {'Anyo': 2012,\n",
       "   'FK_Periodo': 21,\n",
       "   'FK_TipoDato': 1,\n",
       "   'Fecha': 1341093600000,\n",
       "   'Secreto': False,\n",
       "   'Valor': 15307.2},\n",
       "  {'Anyo': 2012,\n",
       "   'FK_Periodo': 22,\n",
       "   'FK_TipoDato': 1,\n",
       "   'Fecha': 1349042400000,\n",
       "   'Secreto': False,\n",
       "   'Valor': 15422.7},\n",
       "  {'Anyo': 2013,\n",
       "   'FK_Periodo': 19,\n",
       "   'FK_TipoDato': 1,\n",
       "   'Fecha': 1356994800000,\n",
       "   'Secreto': False,\n",
       "   'Valor': 15424.8},\n",
       "  {'Anyo': 2013,\n",
       "   'FK_Periodo': 20,\n",
       "   'FK_TipoDato': 1,\n",
       "   'Fecha': 1364767200000,\n",
       "   'Secreto': False,\n",
       "   'Valor': 15472.8},\n",
       "  {'Anyo': 2013,\n",
       "   'FK_Periodo': 21,\n",
       "   'FK_TipoDato': 1,\n",
       "   'Fecha': 1372629600000,\n",
       "   'Secreto': False,\n",
       "   'Valor': 15423.9},\n",
       "  {'Anyo': 2013,\n",
       "   'FK_Periodo': 22,\n",
       "   'FK_TipoDato': 1,\n",
       "   'Fecha': 1380578400000,\n",
       "   'Secreto': False,\n",
       "   'Valor': 15472.3},\n",
       "  {'Anyo': 2014,\n",
       "   'FK_Periodo': 19,\n",
       "   'FK_TipoDato': 1,\n",
       "   'Fecha': 1388530800000,\n",
       "   'Secreto': False,\n",
       "   'Valor': 15599.7},\n",
       "  {'Anyo': 2014,\n",
       "   'FK_Periodo': 20,\n",
       "   'FK_TipoDato': 1,\n",
       "   'Fecha': 1396303200000,\n",
       "   'Secreto': False,\n",
       "   'Valor': 15552.2},\n",
       "  {'Anyo': 2014,\n",
       "   'FK_Periodo': 21,\n",
       "   'FK_TipoDato': 1,\n",
       "   'Fecha': 1404165600000,\n",
       "   'Secreto': False,\n",
       "   'Valor': 15591.5},\n",
       "  {'Anyo': 2014,\n",
       "   'FK_Periodo': 22,\n",
       "   'FK_TipoDato': 1,\n",
       "   'Fecha': 1412114400000,\n",
       "   'Secreto': False,\n",
       "   'Valor': 15496.5},\n",
       "  {'Anyo': 2015,\n",
       "   'FK_Periodo': 19,\n",
       "   'FK_TipoDato': 1,\n",
       "   'Fecha': 1420066800000,\n",
       "   'Secreto': False,\n",
       "   'Valor': 15617.8},\n",
       "  {'Anyo': 2015,\n",
       "   'FK_Periodo': 20,\n",
       "   'FK_TipoDato': 1,\n",
       "   'Fecha': 1427839200000,\n",
       "   'Secreto': False,\n",
       "   'Valor': 15481.1},\n",
       "  {'Anyo': 2015,\n",
       "   'FK_Periodo': 21,\n",
       "   'FK_TipoDato': 1,\n",
       "   'Fecha': 1435701600000,\n",
       "   'Secreto': False,\n",
       "   'Valor': 15587.3},\n",
       "  {'Anyo': 2015,\n",
       "   'FK_Periodo': 22,\n",
       "   'FK_TipoDato': 1,\n",
       "   'Fecha': 1443650400000,\n",
       "   'Secreto': False,\n",
       "   'Valor': 15615.9},\n",
       "  {'Anyo': 2016,\n",
       "   'FK_Periodo': 19,\n",
       "   'FK_TipoDato': 1,\n",
       "   'Fecha': 1451602800000,\n",
       "   'Secreto': False,\n",
       "   'Valor': 15670.8},\n",
       "  {'Anyo': 2016,\n",
       "   'FK_Periodo': 20,\n",
       "   'FK_TipoDato': 1,\n",
       "   'Fecha': 1459461600000,\n",
       "   'Secreto': False,\n",
       "   'Valor': 15630.0},\n",
       "  {'Anyo': 2016,\n",
       "   'FK_Periodo': 21,\n",
       "   'FK_TipoDato': 1,\n",
       "   'Fecha': 1467324000000,\n",
       "   'Secreto': False,\n",
       "   'Valor': 15695.3},\n",
       "  {'Anyo': 2016,\n",
       "   'FK_Periodo': 22,\n",
       "   'FK_TipoDato': 1,\n",
       "   'Fecha': 1475272800000,\n",
       "   'Secreto': False,\n",
       "   'Valor': 15839.0},\n",
       "  {'Anyo': 2017,\n",
       "   'FK_Periodo': 19,\n",
       "   'FK_TipoDato': 1,\n",
       "   'Fecha': 1483225200000,\n",
       "   'Secreto': False,\n",
       "   'Valor': 15914.7},\n",
       "  {'Anyo': 2017,\n",
       "   'FK_Periodo': 20,\n",
       "   'FK_TipoDato': 1,\n",
       "   'Fecha': 1490997600000,\n",
       "   'Secreto': False,\n",
       "   'Valor': 15901.5}],\n",
       " 'FK_Escala': 4,\n",
       " 'FK_Unidad': 3,\n",
       " 'Nombre': 'Total Nacional. Ambos sexos. De 16 y más años. Inactivos. Personas. '}"
      ]
     },
     "execution_count": 330,
     "metadata": {},
     "output_type": "execute_result"
    }
   ],
   "source": [
    "respuesta.json()"
   ]
  },
  {
   "cell_type": "code",
   "execution_count": 331,
   "metadata": {
    "collapsed": true
   },
   "outputs": [],
   "source": [
    "datos_inactivos=pd.DataFrame(respuesta.json())"
   ]
  },
  {
   "cell_type": "code",
   "execution_count": 332,
   "metadata": {
    "collapsed": true
   },
   "outputs": [],
   "source": [
    "spliteador_edad = lambda x: x.split('.')[1].split()[0]"
   ]
  },
  {
   "cell_type": "code",
   "execution_count": 333,
   "metadata": {
    "collapsed": true
   },
   "outputs": [],
   "source": [
    "spliteador_genero=lambda x: x.split('.')[2].strip()"
   ]
  },
  {
   "cell_type": "code",
   "execution_count": 336,
   "metadata": {},
   "outputs": [
    {
     "data": {
      "text/plain": [
       "RangeIndex(start=0, stop=62, step=1)"
      ]
     },
     "execution_count": 336,
     "metadata": {},
     "output_type": "execute_result"
    }
   ],
   "source": [
    "datos_inactivos.index"
   ]
  },
  {
   "cell_type": "code",
   "execution_count": 337,
   "metadata": {},
   "outputs": [
    {
     "data": {
      "text/plain": [
       "15835.5"
      ]
     },
     "execution_count": 337,
     "metadata": {},
     "output_type": "execute_result"
    }
   ],
   "source": [
    "datos_inactivos['Data'][0]['Valor']"
   ]
  },
  {
   "cell_type": "code",
   "execution_count": 338,
   "metadata": {
    "scrolled": false
   },
   "outputs": [
    {
     "name": "stdout",
     "output_type": "stream",
     "text": [
      "Año 2002-01-01,personas inactivas 15,836\n",
      "Año 2002-04-01,personas inactivas 15,769\n",
      "Año 2002-07-01,personas inactivas 15,690\n",
      "Año 2002-10-01,personas inactivas 15,758\n",
      "Año 2003-01-01,personas inactivas 15,713\n",
      "Año 2003-04-01,personas inactivas 15,649\n",
      "Año 2003-07-01,personas inactivas 15,537\n",
      "Año 2003-10-01,personas inactivas 15,566\n",
      "Año 2004-01-01,personas inactivas 15,625\n",
      "Año 2004-04-01,personas inactivas 15,572\n",
      "Año 2004-07-01,personas inactivas 15,499\n",
      "Año 2004-10-01,personas inactivas 15,517\n",
      "Año 2005-01-01,personas inactivas 15,494\n",
      "Año 2005-04-01,personas inactivas 15,389\n",
      "Año 2005-07-01,personas inactivas 15,445\n",
      "Año 2005-10-01,personas inactivas 15,427\n",
      "Año 2006-01-01,personas inactivas 15,396\n",
      "Año 2006-04-01,personas inactivas 15,330\n",
      "Año 2006-07-01,personas inactivas 15,352\n",
      "Año 2006-10-01,personas inactivas 15,374\n",
      "Año 2007-01-01,personas inactivas 15,440\n",
      "Año 2007-04-01,personas inactivas 15,390\n",
      "Año 2007-07-01,personas inactivas 15,357\n",
      "Año 2007-10-01,personas inactivas 15,441\n",
      "Año 2008-01-01,personas inactivas 15,414\n",
      "Año 2008-04-01,personas inactivas 15,309\n",
      "Año 2008-07-01,personas inactivas 15,291\n",
      "Año 2008-10-01,personas inactivas 15,284\n",
      "Año 2009-01-01,personas inactivas 15,287\n",
      "Año 2009-04-01,personas inactivas 15,338\n",
      "Año 2009-07-01,personas inactivas 15,450\n",
      "Año 2009-10-01,personas inactivas 15,488\n",
      "Año 2010-01-01,personas inactivas 15,454\n",
      "Año 2010-04-01,personas inactivas 15,339\n",
      "Año 2010-07-01,personas inactivas 15,364\n",
      "Año 2010-10-01,personas inactivas 15,425\n",
      "Año 2011-01-01,personas inactivas 15,461\n",
      "Año 2011-04-01,personas inactivas 15,361\n",
      "Año 2011-07-01,personas inactivas 15,369\n",
      "Año 2011-10-01,personas inactivas 15,442\n",
      "Año 2012-01-01,personas inactivas 15,421\n",
      "Año 2012-04-01,personas inactivas 15,334\n",
      "Año 2012-07-01,personas inactivas 15,307\n",
      "Año 2012-10-01,personas inactivas 15,423\n",
      "Año 2013-01-01,personas inactivas 15,425\n",
      "Año 2013-04-01,personas inactivas 15,473\n",
      "Año 2013-07-01,personas inactivas 15,424\n",
      "Año 2013-10-01,personas inactivas 15,472\n",
      "Año 2014-01-01,personas inactivas 15,600\n",
      "Año 2014-04-01,personas inactivas 15,552\n",
      "Año 2014-07-01,personas inactivas 15,592\n",
      "Año 2014-10-01,personas inactivas 15,496\n",
      "Año 2015-01-01,personas inactivas 15,618\n",
      "Año 2015-04-01,personas inactivas 15,481\n",
      "Año 2015-07-01,personas inactivas 15,587\n",
      "Año 2015-10-01,personas inactivas 15,616\n",
      "Año 2016-01-01,personas inactivas 15,671\n",
      "Año 2016-04-01,personas inactivas 15,630\n",
      "Año 2016-07-01,personas inactivas 15,695\n",
      "Año 2016-10-01,personas inactivas 15,839\n",
      "Año 2017-01-01,personas inactivas 15,915\n",
      "Año 2017-04-01,personas inactivas 15,902\n"
     ]
    }
   ],
   "source": [
    "for x in datos_inactivos.index:\n",
    "    fecha=datetime.date.fromtimestamp(datos_inactivos.iloc[x]['Data']['Fecha']/1000)\n",
    "    numero=datos_inactivos['Data'][x]['Valor']\n",
    "    print ('Año {0},personas inactivas {1:,.0f}'.format(fecha,numero))"
   ]
  },
  {
   "cell_type": "code",
   "execution_count": 339,
   "metadata": {
    "collapsed": true,
    "scrolled": false
   },
   "outputs": [],
   "source": [
    "valores_inactivos=[datos_inactivos['Data'][x]['Valor'] for x in range(0,len(datos_inactivos['Data']))]\n",
    "periodos_inactivos=[datetime.date.fromtimestamp(datos_inactivos['Data'][x]['Fecha']/1000) for x in range(0,len(datos_inactivos['Data']))]"
   ]
  },
  {
   "cell_type": "code",
   "execution_count": 340,
   "metadata": {
    "collapsed": true
   },
   "outputs": [],
   "source": [
    "dict_inactivos=dict([datetime.date.fromtimestamp(datos_inactivos['Data'][x]['Fecha']/1000),\n",
    "                    datos_inactivos['Data'][x]['Valor']\n",
    "                    ]\n",
    "                   for x in range(0,len(datos_inactivos['Data'])))"
   ]
  },
  {
   "cell_type": "code",
   "execution_count": 364,
   "metadata": {},
   "outputs": [
    {
     "data": {
      "text/html": [
       "<iframe id=\"igraph\" scrolling=\"no\" style=\"border:none;\" seamless=\"seamless\" src=\"https://plot.ly/~waly/82.embed\" height=\"525px\" width=\"100%\"></iframe>"
      ],
      "text/plain": [
       "<plotly.tools.PlotlyDisplay object>"
      ]
     },
     "execution_count": 364,
     "metadata": {},
     "output_type": "execute_result"
    }
   ],
   "source": [
    "import plotly.plotly as py\n",
    "import plotly.graph_objs as go\n",
    "\n",
    "trace1 = go.Bar(\n",
    "    x=[x for x in dict_inactivos],\n",
    "    y=[dict_inactivos[x] for x in dict_inactivos],\n",
    "    name='Inactivos',\n",
    "    marker=dict(\n",
    "        color='rgb(0, 150, 255)'\n",
    "    )\n",
    ")\n",
    "\n",
    "data = [trace1]\n",
    "\n",
    "layout = go.Layout(\n",
    "    title='Numero Inactivos en absoluto',\n",
    "    xaxis=dict(\n",
    "        #nticks=30,\n",
    "        tickfont=dict(\n",
    "            size=11,\n",
    "            color='rgb(0, 150, 255)'\n",
    "        )\n",
    "    ),\n",
    "    yaxis=dict(\n",
    "        title='Poblacion inactiva en miles',\n",
    "        nticks=20,\n",
    "        exponentformat='none',\n",
    "        #ticksuffix='%',\n",
    "        range=[15000,16000],\n",
    "        titlefont=dict(\n",
    "            size=16,\n",
    "            color='rgb(107, 107, 107)'),\n",
    "        tickfont=dict(\n",
    "            size=14,\n",
    "            color='rgb(107, 107, 107)'\n",
    "        )\n",
    "    ),\n",
    "    legend=dict(\n",
    "        x=5,\n",
    "        y=1.2,\n",
    "        bgcolor='rgba(255, 255, 255, 0)',\n",
    "        bordercolor='rgba(255, 255, 255, 0)'\n",
    "    ),\n",
    "    barmode='group',\n",
    "    bargap=0.3,\n",
    "    bargroupgap=0.1\n",
    ")\n",
    "\n",
    "fig = go.Figure(data=data, layout=layout)\n",
    "py.iplot(fig, filename='Inactivos2')\n",
    "\n"
   ]
  },
  {
   "cell_type": "code",
   "execution_count": 354,
   "metadata": {
    "scrolled": true
   },
   "outputs": [
    {
     "name": "stdout",
     "output_type": "stream",
     "text": [
      "Valid attributes for 'yaxis' at path ['yaxis'] under parents ['layout']:\n",
      "\n",
      "    ['anchor', 'autorange', 'autotick', 'backgroundcolor', 'calendar',\n",
      "    'categoryarray', 'categoryarraysrc', 'categoryorder', 'color',\n",
      "    'domain', 'dtick', 'exponentformat', 'fixedrange', 'gridcolor',\n",
      "    'gridwidth', 'hoverformat', 'linecolor', 'linewidth', 'mirror',\n",
      "    'nticks', 'overlaying', 'position', 'range', 'rangemode',\n",
      "    'scaleanchor', 'scaleratio', 'separatethousands', 'showaxeslabels',\n",
      "    'showbackground', 'showexponent', 'showgrid', 'showline', 'showspikes',\n",
      "    'showticklabels', 'showtickprefix', 'showticksuffix', 'side',\n",
      "    'spikecolor', 'spikedash', 'spikemode', 'spikesides', 'spikethickness',\n",
      "    'tick0', 'tickangle', 'tickcolor', 'tickfont', 'tickformat', 'ticklen',\n",
      "    'tickmode', 'tickprefix', 'ticks', 'ticksuffix', 'ticktext',\n",
      "    'ticktextsrc', 'tickvals', 'tickvalssrc', 'tickwidth', 'title',\n",
      "    'titlefont', 'type', 'visible', 'zeroline', 'zerolinecolor',\n",
      "    'zerolinewidth']\n",
      "\n",
      "Run `<yaxis-object>.help('attribute')` on any of the above.\n",
      "'<yaxis-object>' is the object at ['yaxis']\n"
     ]
    }
   ],
   "source": [
    "layout.yaxis.help()"
   ]
  },
  {
   "cell_type": "markdown",
   "metadata": {},
   "source": [
    "# Tabla con Activos"
   ]
  },
  {
   "cell_type": "code",
   "execution_count": 58,
   "metadata": {
    "collapsed": true
   },
   "outputs": [],
   "source": [
    "codigo='EPA88'"
   ]
  },
  {
   "cell_type": "code",
   "execution_count": 59,
   "metadata": {
    "collapsed": true
   },
   "outputs": [],
   "source": [
    "num_datos = 100"
   ]
  },
  {
   "cell_type": "code",
   "execution_count": 60,
   "metadata": {
    "collapsed": true
   },
   "outputs": [],
   "source": [
    "url = url_plantilla_Serie.format(codigo=codigo, num_datos=num_datos)"
   ]
  },
  {
   "cell_type": "code",
   "execution_count": 61,
   "metadata": {
    "collapsed": true
   },
   "outputs": [],
   "source": [
    "respuesta = requests.get(url)"
   ]
  },
  {
   "cell_type": "code",
   "execution_count": 62,
   "metadata": {
    "collapsed": true
   },
   "outputs": [],
   "source": [
    "datos_activos=pd.DataFrame(respuesta.json())"
   ]
  },
  {
   "cell_type": "code",
   "execution_count": 144,
   "metadata": {
    "collapsed": true
   },
   "outputs": [],
   "source": [
    "valores_activos=[datos_activos['Data'][x]['Valor'] for x in range(0,len(datos_activos['Data']))]\n",
    "periodos_activos=[datetime.date.fromtimestamp(datos_activos['Data'][x]['Fecha']/1000) for x in range(0,len(datos_activos['Data']))]"
   ]
  },
  {
   "cell_type": "code",
   "execution_count": 239,
   "metadata": {
    "collapsed": true
   },
   "outputs": [],
   "source": [
    "dict_activos=dict([datetime.date.fromtimestamp(datos_activos['Data'][x]['Fecha']/1000),\n",
    "                    datos_activos['Data'][x]['Valor']\n",
    "                    ]\n",
    "                   for x in range(0,len(datos_activos['Data'])))"
   ]
  },
  {
   "cell_type": "code",
   "execution_count": 240,
   "metadata": {},
   "outputs": [
    {
     "data": {
      "text/html": [
       "<iframe id=\"igraph\" scrolling=\"no\" style=\"border:none;\" seamless=\"seamless\" src=\"https://plot.ly/~waly/64.embed\" height=\"525px\" width=\"100%\"></iframe>"
      ],
      "text/plain": [
       "<plotly.tools.PlotlyDisplay object>"
      ]
     },
     "execution_count": 240,
     "metadata": {},
     "output_type": "execute_result"
    }
   ],
   "source": [
    "import plotly.plotly as py\n",
    "import plotly.graph_objs as go\n",
    "\n",
    "trace1 = go.Bar(\n",
    "    x=[x for x in dict_activos],\n",
    "    y=[dict_activos[x] for x in dict_activos],\n",
    "    name='Activos',\n",
    "    marker=dict(\n",
    "        color='rgb(0, 150, 255)'\n",
    "    )\n",
    ")\n",
    "\n",
    "data = [trace1]\n",
    "\n",
    "layout = go.Layout(\n",
    "    title='Numero Activos en absoluto',\n",
    "    xaxis=dict(\n",
    "        tickfont=dict(\n",
    "            size=11,\n",
    "            color='rgb(0, 150, 255)'\n",
    "        )\n",
    "    ),\n",
    "    yaxis=dict(\n",
    "        title='Activos, miles',\n",
    "        #ticksuffix='%',\n",
    "        titlefont=dict(\n",
    "            size=16,\n",
    "            color='rgb(107, 107, 107)'),\n",
    "        tickfont=dict(\n",
    "            size=14,\n",
    "            color='rgb(107, 107, 107)'\n",
    "        )\n",
    "    ),\n",
    "    legend=dict(\n",
    "        x=5,\n",
    "        y=1.2,\n",
    "        bgcolor='rgba(255, 255, 255, 0)',\n",
    "        bordercolor='rgba(255, 255, 255, 0)'\n",
    "    ),\n",
    "    barmode='group',\n",
    "    bargap=0.3,\n",
    "    bargroupgap=0.1\n",
    ")\n",
    "\n",
    "fig = go.Figure(data=data, layout=layout)\n",
    "py.iplot(fig, filename='Activos')"
   ]
  },
  {
   "cell_type": "markdown",
   "metadata": {},
   "source": [
    "# Tabla con Ocupados"
   ]
  },
  {
   "cell_type": "code",
   "execution_count": 66,
   "metadata": {
    "collapsed": true
   },
   "outputs": [],
   "source": [
    "codigo='EPA87'"
   ]
  },
  {
   "cell_type": "code",
   "execution_count": 67,
   "metadata": {
    "collapsed": true
   },
   "outputs": [],
   "source": [
    "num_datos = 100"
   ]
  },
  {
   "cell_type": "code",
   "execution_count": 68,
   "metadata": {
    "collapsed": true
   },
   "outputs": [],
   "source": [
    "url = url_plantilla_Serie.format(codigo=codigo, num_datos=num_datos)"
   ]
  },
  {
   "cell_type": "code",
   "execution_count": 69,
   "metadata": {
    "collapsed": true
   },
   "outputs": [],
   "source": [
    "respuesta = requests.get(url)"
   ]
  },
  {
   "cell_type": "code",
   "execution_count": 72,
   "metadata": {
    "collapsed": true
   },
   "outputs": [],
   "source": [
    "datos_ocupados=pd.DataFrame(respuesta.json())"
   ]
  },
  {
   "cell_type": "code",
   "execution_count": 146,
   "metadata": {
    "collapsed": true
   },
   "outputs": [],
   "source": [
    "valores_ocupados=[datos_ocupados['Data'][x]['Valor'] for x in range(0,len(datos_ocupados['Data']))]\n",
    "periodos_ocupados=[datetime.date.fromtimestamp(datos_ocupados['Data'][x]['Fecha']/1000) for x in range(0,len(datos_ocupados['Data']))]"
   ]
  },
  {
   "cell_type": "code",
   "execution_count": 241,
   "metadata": {
    "collapsed": true
   },
   "outputs": [],
   "source": [
    "dict_ocupados=dict([datetime.date.fromtimestamp(datos_ocupados['Data'][x]['Fecha']/1000),\n",
    "                    datos_ocupados['Data'][x]['Valor']\n",
    "                    ]\n",
    "                   for x in range(0,len(datos_ocupados['Data'])))"
   ]
  },
  {
   "cell_type": "code",
   "execution_count": 242,
   "metadata": {},
   "outputs": [
    {
     "data": {
      "text/html": [
       "<iframe id=\"igraph\" scrolling=\"no\" style=\"border:none;\" seamless=\"seamless\" src=\"https://plot.ly/~waly/66.embed\" height=\"525px\" width=\"100%\"></iframe>"
      ],
      "text/plain": [
       "<plotly.tools.PlotlyDisplay object>"
      ]
     },
     "execution_count": 242,
     "metadata": {},
     "output_type": "execute_result"
    }
   ],
   "source": [
    "import plotly.plotly as py\n",
    "import plotly.graph_objs as go\n",
    "\n",
    "trace1 = go.Bar(\n",
    "    x=[x for x in dict_ocupados],\n",
    "    y=[dict_ocupados[x] for x in dict_ocupados],\n",
    "    name='Ocupados',\n",
    "    marker=dict(\n",
    "        color='rgb(0, 150, 255)'\n",
    "    )\n",
    ")\n",
    "\n",
    "data = [trace1]\n",
    "\n",
    "layout = go.Layout(\n",
    "    title='Numero Ocupados en absoluto',\n",
    "    xaxis=dict(\n",
    "        tickfont=dict(\n",
    "            size=11,\n",
    "            color='rgb(0, 150, 255)'\n",
    "        )\n",
    "    ),\n",
    "    yaxis=dict(\n",
    "        title='Activos, miles',\n",
    "        #ticksuffix='%',\n",
    "        titlefont=dict(\n",
    "            size=16,\n",
    "            color='rgb(107, 107, 107)'),\n",
    "        tickfont=dict(\n",
    "            size=14,\n",
    "            color='rgb(107, 107, 107)'\n",
    "        )\n",
    "    ),\n",
    "    legend=dict(\n",
    "        x=5,\n",
    "        y=1.2,\n",
    "        bgcolor='rgba(255, 255, 255, 0)',\n",
    "        bordercolor='rgba(255, 255, 255, 0)'\n",
    "    ),\n",
    "    barmode='group',\n",
    "    bargap=0.3,\n",
    "    bargroupgap=0.1\n",
    ")\n",
    "\n",
    "fig = go.Figure(data=data, layout=layout)\n",
    "py.iplot(fig, filename='Ocupados')"
   ]
  },
  {
   "cell_type": "markdown",
   "metadata": {},
   "source": [
    "# Tabla con Parados"
   ]
  },
  {
   "cell_type": "code",
   "execution_count": 96,
   "metadata": {
    "collapsed": true
   },
   "outputs": [],
   "source": [
    "codigo='EPA86'"
   ]
  },
  {
   "cell_type": "code",
   "execution_count": 97,
   "metadata": {
    "collapsed": true
   },
   "outputs": [],
   "source": [
    "num_datos = 100"
   ]
  },
  {
   "cell_type": "code",
   "execution_count": 98,
   "metadata": {
    "collapsed": true
   },
   "outputs": [],
   "source": [
    "url = url_plantilla_Serie.format(codigo=codigo, num_datos=num_datos)"
   ]
  },
  {
   "cell_type": "code",
   "execution_count": 99,
   "metadata": {
    "collapsed": true
   },
   "outputs": [],
   "source": [
    "respuesta_parados = requests.get(url)"
   ]
  },
  {
   "cell_type": "code",
   "execution_count": 100,
   "metadata": {
    "collapsed": true
   },
   "outputs": [],
   "source": [
    "datos_parados=pd.DataFrame(respuesta_parados.json())"
   ]
  },
  {
   "cell_type": "code",
   "execution_count": 148,
   "metadata": {
    "collapsed": true
   },
   "outputs": [],
   "source": [
    "valores_parados=[datos_parados['Data'][x]['Valor'] for x in range(0,len(datos_parados['Data']))]\n",
    "periodos_parados=[datetime.date.fromtimestamp(datos_parados['Data'][x]['Fecha']/1000) for x in range(0,len(datos_parados['Data']))]"
   ]
  },
  {
   "cell_type": "code",
   "execution_count": 243,
   "metadata": {
    "collapsed": true
   },
   "outputs": [],
   "source": [
    "dict_parados=dict([datetime.date.fromtimestamp(datos_parados['Data'][x]['Fecha']/1000),\n",
    "                    datos_parados['Data'][x]['Valor']\n",
    "                    ]\n",
    "                   for x in range(0,len(datos_parados['Data'])))"
   ]
  },
  {
   "cell_type": "code",
   "execution_count": 244,
   "metadata": {},
   "outputs": [
    {
     "data": {
      "text/html": [
       "<iframe id=\"igraph\" scrolling=\"no\" style=\"border:none;\" seamless=\"seamless\" src=\"https://plot.ly/~waly/68.embed\" height=\"525px\" width=\"100%\"></iframe>"
      ],
      "text/plain": [
       "<plotly.tools.PlotlyDisplay object>"
      ]
     },
     "execution_count": 244,
     "metadata": {},
     "output_type": "execute_result"
    }
   ],
   "source": [
    "import plotly.plotly as py\n",
    "import plotly.graph_objs as go\n",
    "\n",
    "trace1 = go.Bar(\n",
    "    x=[x for x in dict_parados],\n",
    "    y=[dict_parados[x] for x in dict_parados],\n",
    "    name='Parados',\n",
    "    marker=dict(\n",
    "        color='rgb(0, 150, 255)'\n",
    "    )\n",
    ")\n",
    "\n",
    "data = [trace1]\n",
    "\n",
    "layout = go.Layout(\n",
    "    title='Numero Parados en absoluto',\n",
    "    xaxis=dict(\n",
    "        tickfont=dict(\n",
    "            size=11,\n",
    "            color='rgb(0, 150, 255)'\n",
    "        )\n",
    "    ),\n",
    "    yaxis=dict(\n",
    "        title='Parados, miles',\n",
    "        #ticksuffix='%',\n",
    "        titlefont=dict(\n",
    "            size=16,\n",
    "            color='rgb(107, 107, 107)'),\n",
    "        tickfont=dict(\n",
    "            size=14,\n",
    "            color='rgb(107, 107, 107)'\n",
    "        )\n",
    "    ),\n",
    "    legend=dict(\n",
    "        x=5,\n",
    "        y=1.2,\n",
    "        bgcolor='rgba(255, 255, 255, 0)',\n",
    "        bordercolor='rgba(255, 255, 255, 0)'\n",
    "    ),\n",
    "    barmode='group',\n",
    "    bargap=0.3,\n",
    "    bargroupgap=0.1\n",
    ")\n",
    "\n",
    "fig = go.Figure(data=data, layout=layout)\n",
    "py.iplot(fig, filename='Parados')"
   ]
  },
  {
   "cell_type": "markdown",
   "metadata": {},
   "source": [
    "# Tabla Poblacion"
   ]
  },
  {
   "cell_type": "code",
   "execution_count": 103,
   "metadata": {
    "collapsed": true
   },
   "outputs": [],
   "source": [
    "codigo='CP335'"
   ]
  },
  {
   "cell_type": "code",
   "execution_count": 104,
   "metadata": {
    "collapsed": true
   },
   "outputs": [],
   "source": [
    "num_datos = 31"
   ]
  },
  {
   "cell_type": "code",
   "execution_count": 105,
   "metadata": {
    "collapsed": true
   },
   "outputs": [],
   "source": [
    "url = url_plantilla_Serie.format(codigo=codigo, num_datos=num_datos)"
   ]
  },
  {
   "cell_type": "code",
   "execution_count": 106,
   "metadata": {
    "collapsed": true
   },
   "outputs": [],
   "source": [
    "respuesta = requests.get(url)"
   ]
  },
  {
   "cell_type": "code",
   "execution_count": 107,
   "metadata": {
    "collapsed": true
   },
   "outputs": [],
   "source": [
    "datos_poblacion=pd.DataFrame(respuesta.json())"
   ]
  },
  {
   "cell_type": "code",
   "execution_count": 169,
   "metadata": {
    "collapsed": true
   },
   "outputs": [],
   "source": [
    "valores_poblacion=[datos_poblacion['Data'][x]['Valor']/1000 for x in range(0,len(datos_poblacion['Data']))]\n",
    "periodos_poblacion=[datetime.date.fromtimestamp(datos_poblacion['Data'][x]['Fecha']/1000) for x in range(0,len(datos_poblacion['Data']))]"
   ]
  },
  {
   "cell_type": "code",
   "execution_count": 245,
   "metadata": {
    "collapsed": true
   },
   "outputs": [],
   "source": [
    "dict_poblacion=dict([datetime.date.fromtimestamp(datos_poblacion['Data'][x]['Fecha']/1000),\n",
    "                    datos_poblacion['Data'][x]['Valor']\n",
    "                    ]\n",
    "                   for x in range(0,len(datos_poblacion['Data'])))"
   ]
  },
  {
   "cell_type": "code",
   "execution_count": 246,
   "metadata": {},
   "outputs": [
    {
     "data": {
      "text/html": [
       "<iframe id=\"igraph\" scrolling=\"no\" style=\"border:none;\" seamless=\"seamless\" src=\"https://plot.ly/~waly/70.embed\" height=\"525px\" width=\"100%\"></iframe>"
      ],
      "text/plain": [
       "<plotly.tools.PlotlyDisplay object>"
      ]
     },
     "execution_count": 246,
     "metadata": {},
     "output_type": "execute_result"
    }
   ],
   "source": [
    "import plotly.plotly as py\n",
    "import plotly.graph_objs as go\n",
    "\n",
    "trace1 = go.Bar(\n",
    "    x=[x for x in dict_poblacion],\n",
    "    y=[dict_poblacion[x] for x in dict_poblacion],\n",
    "    \n",
    "    name='POblacion',\n",
    "    marker=dict(\n",
    "        color='rgb(0, 150, 255)'\n",
    "    )\n",
    ")\n",
    "\n",
    "data = [trace1]\n",
    "\n",
    "layout = go.Layout(\n",
    "    title='Poblacion',\n",
    "    xaxis=dict(\n",
    "        tickfont=dict(\n",
    "            size=11,\n",
    "            color='rgb(0, 150, 255)'\n",
    "        )\n",
    "    ),\n",
    "    yaxis=dict(\n",
    "        title='Poblacion, miles',\n",
    "        #ticksuffix='%',\n",
    "        titlefont=dict(\n",
    "            size=16,\n",
    "            color='rgb(107, 107, 107)'),\n",
    "        tickfont=dict(\n",
    "            size=14,\n",
    "            color='rgb(107, 107, 107)'\n",
    "        )\n",
    "    ),\n",
    "    legend=dict(\n",
    "        x=5,\n",
    "        y=1.2,\n",
    "        bgcolor='rgba(255, 255, 255, 0)',\n",
    "        bordercolor='rgba(255, 255, 255, 0)'\n",
    "    ),\n",
    "    barmode='group',\n",
    "    bargap=0.3,\n",
    "    bargroupgap=0.1\n",
    ")\n",
    "\n",
    "fig = go.Figure(data=data, layout=layout)\n",
    "py.iplot(fig, filename='Poblacion')"
   ]
  },
  {
   "cell_type": "markdown",
   "metadata": {},
   "source": [
    "# Tabla poblacion por debajo de 16 años"
   ]
  },
  {
   "cell_type": "code",
   "execution_count": 116,
   "metadata": {
    "collapsed": true
   },
   "outputs": [],
   "source": [
    "codigo = \"9663\""
   ]
  },
  {
   "cell_type": "code",
   "execution_count": 117,
   "metadata": {
    "collapsed": true
   },
   "outputs": [],
   "source": [
    "num_datos=100"
   ]
  },
  {
   "cell_type": "code",
   "execution_count": 118,
   "metadata": {
    "collapsed": true
   },
   "outputs": [],
   "source": [
    "url = url_plantilla_Tabla.format(codigo=codigo,num_datos=num_datos)"
   ]
  },
  {
   "cell_type": "code",
   "execution_count": 119,
   "metadata": {
    "collapsed": true
   },
   "outputs": [],
   "source": [
    "respuesta_poblacion_16 = requests.get(url)"
   ]
  },
  {
   "cell_type": "code",
   "execution_count": 124,
   "metadata": {
    "collapsed": true
   },
   "outputs": [],
   "source": [
    "datos_poblacion_16=pd.DataFrame(respuesta_poblacion_16.json())"
   ]
  },
  {
   "cell_type": "code",
   "execution_count": 125,
   "metadata": {
    "collapsed": true
   },
   "outputs": [],
   "source": [
    "datos_poblacion_16.drop([0,1,2,318,319,320],inplace=True)"
   ]
  },
  {
   "cell_type": "code",
   "execution_count": 126,
   "metadata": {
    "collapsed": true
   },
   "outputs": [],
   "source": [
    "spliteador_edad = lambda x: x.split('.')[1].split()[0]"
   ]
  },
  {
   "cell_type": "code",
   "execution_count": 127,
   "metadata": {
    "collapsed": true
   },
   "outputs": [],
   "source": [
    "spliteador_genero=lambda x: x.split('.')[2].strip()"
   ]
  },
  {
   "cell_type": "code",
   "execution_count": 129,
   "metadata": {
    "collapsed": true
   },
   "outputs": [],
   "source": [
    "df1=datos_poblacion_16[(datos_poblacion_16['Nombre'].apply(spliteador_edad).astype(int) < 16) & (datos_poblacion_16['Nombre'].apply(spliteador_genero)=='Total')]"
   ]
  },
  {
   "cell_type": "code",
   "execution_count": 300,
   "metadata": {
    "collapsed": true
   },
   "outputs": [],
   "source": [
    "dict_poblacion_16={}"
   ]
  },
  {
   "cell_type": "code",
   "execution_count": 301,
   "metadata": {},
   "outputs": [
    {
     "name": "stdout",
     "output_type": "stream",
     "text": [
      "Año 2017-01-01, 7,456,624 habitantes totales\n",
      "Año 2016-07-01, 7,457,055 habitantes totales\n",
      "Año 2016-01-01, 7,476,932 habitantes totales\n",
      "Año 2015-07-01, 7,473,871 habitantes totales\n",
      "Año 2015-01-01, 7,489,417 habitantes totales\n",
      "Año 2014-07-01, 7,483,312 habitantes totales\n",
      "Año 2014-01-01, 7,493,990 habitantes totales\n",
      "Año 2013-07-01, 7,499,028 habitantes totales\n",
      "Año 2013-01-01, 7,520,213 habitantes totales\n",
      "Año 2012-07-01, 7,509,906 habitantes totales\n",
      "Año 2012-01-01, 7,502,420 habitantes totales\n",
      "Año 2011-07-01, 7,463,792 habitantes totales\n",
      "Año 2011-01-01, 7,436,356 habitantes totales\n",
      "Año 2010-07-01, 7,388,425 habitantes totales\n",
      "Año 2010-01-01, 7,359,659 habitantes totales\n",
      "Año 2009-07-01, 7,316,609 habitantes totales\n",
      "Año 2009-01-01, 7,275,135 habitantes totales\n",
      "Año 2008-07-01, 7,202,504 habitantes totales\n",
      "Año 2008-01-01, 7,131,641 habitantes totales\n",
      "Año 2007-07-01, 7,040,508 habitantes totales\n",
      "Año 2007-01-01, 6,965,628 habitantes totales\n",
      "Año 2006-07-01, 6,883,964 habitantes totales\n",
      "Año 2006-01-01, 6,820,027 habitantes totales\n",
      "Año 2005-07-01, 6,753,328 habitantes totales\n",
      "Año 2005-01-01, 6,705,247 habitantes totales\n",
      "Año 2004-07-01, 6,646,915 habitantes totales\n",
      "Año 2004-01-01, 6,608,291 habitantes totales\n",
      "Año 2003-07-01, 6,554,773 habitantes totales\n",
      "Año 2003-01-01, 6,497,491 habitantes totales\n",
      "Año 2002-07-01, 6,441,909 habitantes totales\n",
      "Año 2002-01-01, 6,402,290 habitantes totales\n"
     ]
    }
   ],
   "source": [
    "for n in dict_poblacion_16:\n",
    "    dict_poblacion_16[n]=0\n",
    "for x in df1.index:\n",
    "    #print ('{} años, {}'.format(df1.loc[[x]]['Nombre'].apply(spliteador_edad).values[0],df1.loc[[x]]['Nombre'].apply(spliteador_genero).values[0]))\n",
    "    for z in df1.loc[[x]]['Data'].values[0]:\n",
    "        fecha=datetime.date.fromtimestamp(z['Fecha']/1000)\n",
    "        \n",
    "            \n",
    "            #print ('Año {}, {} habitantes, fecha {}'.format(z['Anyo'],z['Valor'],fecha))\n",
    "        if fecha in dict_poblacion_16:\n",
    "            dict_poblacion_16[fecha]+=z['Valor']\n",
    "        else:\n",
    "            dict_poblacion_16[fecha]=z['Valor']\n",
    "for m in dict_poblacion_16:\n",
    "    print ('Año {0}, {1:,.0f} habitantes totales'.format(m,dict_poblacion_16[m])) "
   ]
  },
  {
   "cell_type": "code",
   "execution_count": 302,
   "metadata": {},
   "outputs": [
    {
     "data": {
      "text/html": [
       "<iframe id=\"igraph\" scrolling=\"no\" style=\"border:none;\" seamless=\"seamless\" src=\"https://plot.ly/~waly/80.embed\" height=\"525px\" width=\"100%\"></iframe>"
      ],
      "text/plain": [
       "<plotly.tools.PlotlyDisplay object>"
      ]
     },
     "execution_count": 302,
     "metadata": {},
     "output_type": "execute_result"
    }
   ],
   "source": [
    "import plotly.plotly as py\n",
    "import plotly.graph_objs as go\n",
    "\n",
    "trace1 = go.Bar(\n",
    "    x=[x for x in dict_poblacion_16],\n",
    "    y=[dict_poblacion_16[x] for x in dict_poblacion_16],\n",
    "    name='Poblacion < 16',\n",
    "    marker=dict(\n",
    "        color='rgb(0, 150, 255)'\n",
    "    )\n",
    ")\n",
    "\n",
    "data = [trace1]\n",
    "\n",
    "layout = go.Layout(\n",
    "    title='Poblacion < 16 años',\n",
    "    xaxis=dict(\n",
    "        tickfont=dict(\n",
    "            size=11,\n",
    "            color='rgb(0, 150, 255)'\n",
    "        )\n",
    "    ),\n",
    "    yaxis=dict(\n",
    "        title='Poblacion, miles',\n",
    "        #ticksuffix='%',\n",
    "        titlefont=dict(\n",
    "            size=16,\n",
    "            color='rgb(107, 107, 107)'),\n",
    "        tickfont=dict(\n",
    "            size=14,\n",
    "            color='rgb(107, 107, 107)'\n",
    "        )\n",
    "    ),\n",
    "    legend=dict(\n",
    "        x=5,\n",
    "        y=1.2,\n",
    "        bgcolor='rgba(255, 255, 255, 0)',\n",
    "        bordercolor='rgba(255, 255, 255, 0)'\n",
    "    ),\n",
    "    barmode='group',\n",
    "    bargap=0.3,\n",
    "    bargroupgap=0.1\n",
    ")\n",
    "\n",
    "fig = go.Figure(data=data, layout=layout)\n",
    "py.iplot(fig, filename='Poblacion < 16')"
   ]
  },
  {
   "cell_type": "markdown",
   "metadata": {},
   "source": [
    "# Grafica multiple con Activos/Parados/Empleados/Inactivos/Poblacion"
   ]
  },
  {
   "cell_type": "code",
   "execution_count": 287,
   "metadata": {},
   "outputs": [
    {
     "data": {
      "text/html": [
       "<iframe id=\"igraph\" scrolling=\"no\" style=\"border:none;\" seamless=\"seamless\" src=\"https://plot.ly/~waly/76.embed\" height=\"600px\" width=\"1000px\"></iframe>"
      ],
      "text/plain": [
       "<plotly.tools.PlotlyDisplay object>"
      ]
     },
     "execution_count": 287,
     "metadata": {},
     "output_type": "execute_result"
    }
   ],
   "source": [
    "import plotly.plotly as py\n",
    "import plotly.graph_objs as go\n",
    "\n",
    "# Create traces\n",
    "trace5 = go.Scatter(\n",
    "    x=[x for x in dict_parados],\n",
    "    y=[dict_parados[x] for x in dict_parados],\n",
    "    mode = 'lines',\n",
    "    name = 'Parados'\n",
    ")\n",
    "trace1 = go.Scatter(\n",
    "    x=[x for x in dict_activos],\n",
    "    y=[dict_activos[x] for x in dict_activos],\n",
    "    mode = 'lines',\n",
    "    name = 'Activos'\n",
    ")\n",
    "trace2 = go.Scatter(\n",
    "    x=[x for x in dict_ocupados],\n",
    "    y=[dict_ocupados[x] for x in dict_ocupados],\n",
    "    mode = 'lines',\n",
    "    name = 'ocupados'\n",
    ")\n",
    "trace3 = go.Scatter(\n",
    "    x=[x for x in dict_inactivos],\n",
    "    y=[dict_inactivos[x] for x in dict_inactivos],\n",
    "    mode = 'lines',\n",
    "    name = 'Inactivos'\n",
    ")\n",
    "trace4 = go.Scatter(\n",
    "    x=[x for x in dict_poblacion_16],\n",
    "    y=[dict_poblacion_16[x]/1000 for x in dict_poblacion_16],\n",
    "    mode = 'lines',\n",
    "    name = 'Poblacion < 16 años'\n",
    ")\n",
    "\n",
    "trace0= go.Scatter(\n",
    "    x=[x for x in dict_poblacion],\n",
    "    y=[dict_poblacion[x]/1000 for x in dict_poblacion],\n",
    "    mode = 'lines',\n",
    "    name='Poblacion'\n",
    ")\n",
    "\n",
    "data = [trace0, trace1,trace2,trace3,trace4,trace5]\n",
    "\n",
    "\n",
    "layout = go.Layout(\n",
    "    xaxis=dict(\n",
    "        title='Años',\n",
    "        showline=True,\n",
    "        showgrid=False,\n",
    "        showticklabels=True,\n",
    "        linecolor='rgb(204, 204, 204)',\n",
    "        linewidth=2,\n",
    "        #autotick=False,\n",
    "        nticks=16,\n",
    "        ticks='outside',\n",
    "        tickcolor='rgb(204, 204, 204)',\n",
    "        tickwidth=2,\n",
    "        ticklen=5,\n",
    "        tickfont=dict(\n",
    "            family='Arial',\n",
    "            size=12,\n",
    "            color='rgb(82, 82, 82)',\n",
    "        ),\n",
    "    ),\n",
    "    yaxis=dict(\n",
    "        title='Poblacion',\n",
    "        #showgrid=False,\n",
    "        #zeroline=False,\n",
    "        #showline=False,\n",
    "        #showticklabels=False,\n",
    "        nticks=30,\n",
    "    ),\n",
    "    #autosize=False,\n",
    "    margin=dict(\n",
    "       autoexpand=True,\n",
    "        l=50,\n",
    "        r=50,\n",
    "        t=50,\n",
    "    ),\n",
    "    #showlegend=False,\n",
    "    height=600,\n",
    "    width=1000,\n",
    ")\n",
    "\n",
    "annotations = []\n",
    "\n",
    "# Title\n",
    "annotations.append(dict(xref='paper', yref='paper', x=0.0, y=1.1,\n",
    "    xanchor='left', \n",
    "    yanchor='top',\n",
    "    text='Numero de Activos, Empleados, Desempleados, Inactivos y Poblacion Total',\n",
    "    font=dict(\n",
    "        family='Arial',\n",
    "        size=20,\n",
    "        color='rgb(37,37,37)'),\n",
    "        showarrow=False\n",
    "    )\n",
    "    )\n",
    "\n",
    "#Source\n",
    "annotations.append(dict(xref='paper', yref='paper', x=0.8, y=-0.1, \n",
    "    xanchor='left',\n",
    "    yanchor='top',\n",
    "    text='Source: INE http://www.ine.es',\n",
    "    font=dict(family='Arial',\n",
    "    size=12,\n",
    "    color='rgb(150,150,150)'),\n",
    "    showarrow=False)\n",
    "    )\n",
    "\n",
    "layout['annotations'] = annotations\n",
    "fig = dict(data=data, layout=layout)\n",
    "py.iplot(fig, filename='Ocupados, Activos etc..')\n"
   ]
  },
  {
   "cell_type": "code",
   "execution_count": 266,
   "metadata": {
    "collapsed": true
   },
   "outputs": [],
   "source": [
    "lista_periodos=[\n",
    "    x\n",
    "        for x in dict_ocupados if str(x).split(sep='-')[1]=='01']"
   ]
  },
  {
   "cell_type": "code",
   "execution_count": 258,
   "metadata": {
    "collapsed": true
   },
   "outputs": [],
   "source": [
    "trama=()"
   ]
  },
  {
   "cell_type": "code",
   "execution_count": 307,
   "metadata": {
    "collapsed": true
   },
   "outputs": [],
   "source": [
    "trama=[\n",
    "    [dict_inactivos[x],\n",
    "     dict_ocupados[x],\n",
    "     dict_parados[x],\n",
    "     dict_poblacion_16[x]/1000\n",
    "       ]\n",
    "for x in lista_periodos]"
   ]
  },
  {
   "cell_type": "code",
   "execution_count": 308,
   "metadata": {},
   "outputs": [
    {
     "data": {
      "text/plain": [
       "[[15835.5, 16482.3, 2152.8, 6402.29],\n",
       " [15712.8, 17092.7, 2328.5, 6497.491],\n",
       " [15624.9, 17770.2, 2309.8, 6608.291],\n",
       " [15494.0, 18736.1, 2121.3, 6705.247],\n",
       " [15396.2, 19578.4, 1942.8, 6820.027],\n",
       " [15440.2, 20267.5, 1863.2, 6965.628],\n",
       " [15414.0, 20620.0, 2190.5, 7131.641],\n",
       " [15286.7, 19284.4, 4018.2, 7275.135],\n",
       " [15454.4, 18652.9, 4617.7, 7359.659],\n",
       " [15461.4, 18426.2, 4921.2, 7436.356],\n",
       " [15421.2, 17765.1, 5667.9, 7502.42],\n",
       " [15424.8, 17030.2, 6278.2, 7520.213],\n",
       " [15599.7, 16950.6, 5933.3, 7493.99],\n",
       " [15617.8, 17454.8, 5444.6, 7489.417],\n",
       " [15670.8, 18029.6, 4791.4, 7476.932],\n",
       " [15914.7, 18438.3, 4255.0, 7456.624]]"
      ]
     },
     "execution_count": 308,
     "metadata": {},
     "output_type": "execute_result"
    }
   ],
   "source": [
    "trama"
   ]
  },
  {
   "cell_type": "code",
   "execution_count": 309,
   "metadata": {},
   "outputs": [
    {
     "data": {
      "text/html": [
       "<iframe id=\"igraph\" scrolling=\"no\" style=\"border:none;\" seamless=\"seamless\" src=\"https://plot.ly/~waly/78.embed\" height=\"525px\" width=\"100%\"></iframe>"
      ],
      "text/plain": [
       "<plotly.tools.PlotlyDisplay object>"
      ]
     },
     "execution_count": 309,
     "metadata": {},
     "output_type": "execute_result"
    }
   ],
   "source": [
    "import plotly.plotly as py\n",
    "import plotly.graph_objs as go\n",
    "\n",
    "top_labels = ['Inactivos', 'Ocupados', 'Desempleados', 'Poblacion < 16']\n",
    "\n",
    "\n",
    "colors = ['rgba(38, 24, 74, 0.8)', 'rgba(71, 58, 131, 0.8)',\n",
    "          'rgba(122, 120, 168, 0.8)', 'rgba(164, 163, 204, 0.85)']\n",
    "\n",
    "x_data = trama\n",
    "\n",
    "y_data = lista_periodos\n",
    "\n",
    "traces = []\n",
    "\n",
    "for i in range(0, len(x_data[0])):\n",
    "    for xd, yd in zip(x_data, y_data):\n",
    "        traces.append(go.Bar(\n",
    "            x=xd[i],\n",
    "            y=yd,\n",
    "            orientation='h',\n",
    "            marker=dict(\n",
    "                color=colors[i],\n",
    "                line=dict(\n",
    "                        color='rgb(248, 248, 249)',\n",
    "                        width=1)\n",
    "            )\n",
    "        ))\n",
    "\n",
    "layout = go.Layout(\n",
    "    xaxis=dict(\n",
    "        showgrid=False,\n",
    "        showline=False,\n",
    "        showticklabels=False,\n",
    "        zeroline=False,\n",
    "        domain=[0.15, 1]\n",
    "    ),\n",
    "    yaxis=dict(\n",
    "        showgrid=False,\n",
    "        showline=False,\n",
    "        showticklabels=False,\n",
    "        zeroline=False,\n",
    "    ),\n",
    "    barmode='stack',\n",
    "    paper_bgcolor='rgb(248, 248, 255)',\n",
    "    plot_bgcolor='rgb(248, 248, 255)',\n",
    "    margin=dict(\n",
    "        l=120,\n",
    "        r=10,\n",
    "        t=140,\n",
    "        b=80\n",
    "    ),\n",
    "    showlegend=False,\n",
    ")\n",
    "\n",
    "annotations = []\n",
    "\n",
    "for yd, xd in zip(y_data, x_data):\n",
    "    # labeling the y-axis\n",
    "    annotations.append(dict(xref='paper', yref='y',\n",
    "                            x=0.14, y=yd,\n",
    "                            xanchor='right',\n",
    "                            text=str(yd),\n",
    "                            font=dict(family='Arial', size=14,\n",
    "                                      color='rgb(67, 67, 67)'),\n",
    "                            showarrow=False, align='right'))\n",
    "    # labeling the first percentage of each bar (x_axis)\n",
    "    annotations.append(dict(xref='x', yref='y',\n",
    "                            x=xd[0] / 2, y=yd,\n",
    "                            text=str(xd[0]),\n",
    "                            font=dict(family='Arial', size=14,\n",
    "                                      color='rgb(248, 248, 255)'),\n",
    "                            showarrow=False))\n",
    "    # labeling the first Likert scale (on the top)\n",
    "    if yd == y_data[-1]:\n",
    "        annotations.append(dict(xref='x', yref='paper',\n",
    "                                x=xd[0] / 2, y=1.1,\n",
    "                                text=top_labels[0],\n",
    "                                font=dict(family='Arial', size=14,\n",
    "                                          color='rgb(67, 67, 67)'),\n",
    "                                showarrow=False))\n",
    "    space = xd[0]\n",
    "    for i in range(1, len(xd)):\n",
    "            # labeling the rest of percentages for each bar (x_axis)\n",
    "            annotations.append(dict(xref='x', yref='y',\n",
    "                                    x=space + (xd[i]/2), y=yd, \n",
    "                                    text=str(xd[i]),\n",
    "                                    font=dict(family='Arial', size=14,\n",
    "                                              color='rgb(248, 248, 255)'),\n",
    "                                    showarrow=False))\n",
    "            # labeling the Likert scale\n",
    "            if yd == y_data[-1]:\n",
    "                annotations.append(dict(xref='x', yref='paper',\n",
    "                                        x=space + (xd[i]/2), y=1.1,\n",
    "                                        text=top_labels[i],\n",
    "                                        font=dict(family='Arial', size=14,\n",
    "                                                  color='rgb(67, 67, 67)'),\n",
    "                                        showarrow=False))\n",
    "            space += xd[i]\n",
    "\n",
    "layout['annotations'] = annotations\n",
    "\n",
    "fig = go.Figure(data=traces, layout=layout)\n",
    "py.iplot(fig, filename='bar-colorscale-epa')\n"
   ]
  },
  {
   "cell_type": "code",
   "execution_count": 315,
   "metadata": {
    "collapsed": true
   },
   "outputs": [],
   "source": [
    "trama=[\n",
    "    [dict_inactivos[x]/dict_poblacion[x]*1000,\n",
    "     dict_ocupados[x]/dict_poblacion[x]*1000,\n",
    "     dict_parados[x]/dict_poblacion[x]*1000,\n",
    "     dict_poblacion_16[x]/dict_poblacion[x]\n",
    "       ]\n",
    "for x in lista_periodos]"
   ]
  },
  {
   "cell_type": "code",
   "execution_count": 317,
   "metadata": {},
   "outputs": [
    {
     "data": {
      "text/html": [
       "<iframe id=\"igraph\" scrolling=\"no\" style=\"border:none;\" seamless=\"seamless\" src=\"https://plot.ly/~waly/78.embed\" height=\"525px\" width=\"100%\"></iframe>"
      ],
      "text/plain": [
       "<plotly.tools.PlotlyDisplay object>"
      ]
     },
     "execution_count": 317,
     "metadata": {},
     "output_type": "execute_result"
    }
   ],
   "source": [
    "import plotly.plotly as py\n",
    "import plotly.graph_objs as go\n",
    "\n",
    "top_labels = ['Inactivos', 'Ocupados', 'Desempleados','Poblacion < 16 años']\n",
    "\n",
    "\n",
    "colors = ['rgba(38, 24, 74, 0.8)', 'rgba(71, 58, 131, 0.8)',\n",
    "          'rgba(122, 120, 168, 0.8)','rgba(150,140,200,0.8)']\n",
    "\n",
    "x_data = trama\n",
    "\n",
    "y_data = lista_periodos\n",
    "\n",
    "traces = []\n",
    "\n",
    "for i in range(0, len(x_data[0])):\n",
    "    for xd, yd in zip(x_data, y_data):\n",
    "        traces.append(go.Bar(\n",
    "            x=xd[i],\n",
    "            y=yd,\n",
    "            orientation='h',\n",
    "            marker=dict(\n",
    "                color=colors[i],\n",
    "                line=dict(\n",
    "                        color='rgb(248, 248, 249)',\n",
    "                        width=1)\n",
    "            )\n",
    "        ))\n",
    "\n",
    "layout = go.Layout(\n",
    "    xaxis=dict(\n",
    "        showgrid=False,\n",
    "        showline=False,\n",
    "        showticklabels=False,\n",
    "        zeroline=False,\n",
    "        domain=[0.15, 1]\n",
    "    ),\n",
    "    yaxis=dict(\n",
    "        showgrid=False,\n",
    "        showline=False,\n",
    "        showticklabels=False,\n",
    "        zeroline=False,\n",
    "    ),\n",
    "    barmode='stack',\n",
    "    paper_bgcolor='rgb(248, 248, 255)',\n",
    "    plot_bgcolor='rgb(248, 248, 255)',\n",
    "    margin=dict(\n",
    "        l=120,\n",
    "        r=10,\n",
    "        t=140,\n",
    "        b=80\n",
    "    ),\n",
    "    showlegend=False,\n",
    ")\n",
    "\n",
    "annotations = []\n",
    "\n",
    "for yd, xd in zip(y_data, x_data):\n",
    "    # labeling the y-axis\n",
    "    annotations.append(dict(xref='paper', yref='y',\n",
    "                            x=0.14, y=yd,\n",
    "                            xanchor='right',\n",
    "                            text=str(yd),\n",
    "                            font=dict(family='Arial', size=14,\n",
    "                                      color='rgb(67, 67, 67)'),\n",
    "                            showarrow=False, align='right'))\n",
    "    # labeling the first percentage of each bar (x_axis)\n",
    "    annotations.append(dict(xref='x', yref='y',\n",
    "                            x=xd[0] / 2, y=yd,\n",
    "                            #text=str(xd[0]) + '%',\n",
    "                            text='{:.1%}'.format(xd[0]),\n",
    "                            font=dict(family='Arial', size=14,\n",
    "                                      color='rgb(248, 248, 255)'),\n",
    "                            showarrow=False))\n",
    "    # labeling the first Likert scale (on the top)\n",
    "    if yd == y_data[-1]:\n",
    "        annotations.append(dict(xref='x', yref='paper',\n",
    "                                x=xd[0] / 2, y=1.1,\n",
    "                                text=top_labels[0],\n",
    "                                font=dict(family='Arial', size=14,\n",
    "                                          color='rgb(67, 67, 67)'),\n",
    "                                showarrow=False))\n",
    "    space = xd[0]\n",
    "    for i in range(1, len(xd)):\n",
    "            # labeling the rest of percentages for each bar (x_axis)\n",
    "            annotations.append(dict(xref='x', yref='y',\n",
    "                                    x=space + (xd[i]/2), y=yd, \n",
    "                                    #text=str(xd[i]) + '%',\n",
    "                                    text='{:.1%}'.format(xd[i]),\n",
    "                                    font=dict(family='Arial', size=14,\n",
    "                                              color='rgb(248, 248, 255)'),\n",
    "                                    showarrow=False))\n",
    "            # labeling the Likert scale\n",
    "            if yd == y_data[-1]:\n",
    "                annotations.append(dict(xref='x', yref='paper',\n",
    "                                        x=space + (xd[i]/2), y=1.1,\n",
    "                                        text=top_labels[i],\n",
    "                                        font=dict(family='Arial', size=14,\n",
    "                                                  color='rgb(67, 67, 67)'),\n",
    "                                        showarrow=False))\n",
    "            space += xd[i]\n",
    "\n",
    "layout['annotations'] = annotations\n",
    "\n",
    "fig = go.Figure(data=traces, layout=layout)\n",
    "py.iplot(fig, filename='bar-colorscale-epa')\n",
    "\n"
   ]
  }
 ],
 "metadata": {
  "kernelspec": {
   "display_name": "Python 3",
   "language": "python",
   "name": "python3"
  },
  "language_info": {
   "codemirror_mode": {
    "name": "ipython",
    "version": 3
   },
   "file_extension": ".py",
   "mimetype": "text/x-python",
   "name": "python",
   "nbconvert_exporter": "python",
   "pygments_lexer": "ipython3",
   "version": "3.6.1"
  }
 },
 "nbformat": 4,
 "nbformat_minor": 2
}
